{
 "cells": [
  {
   "cell_type": "code",
   "execution_count": 37,
   "metadata": {},
   "outputs": [],
   "source": [
    "import pandas as pd\n",
    "import numpy as np\n",
    "import matplotlib.pyplot as plt\n",
    "%matplotlib inline\n",
    "import seaborn as sns\n",
    "import re\n",
    "from sklearn.metrics import roc_auc_score,roc_curve,auc\n",
    "from sklearn.model_selection import train_test_split,KFold,StratifiedKFold,RandomizedSearchCV\n",
    "from sklearn.preprocessing import LabelEncoder,StandardScaler,MinMaxScaler, KBinsDiscretizer\n",
    "from sklearn.ensemble import RandomForestClassifier\n",
    "import lightgbm as lgb\n",
    "import xgboost as xgb\n",
    "import catboost as cat\n",
    "pd.set_option('display.max_columns',100)\n",
    "\n",
    "import warnings\n",
    "warnings.simplefilter(action='ignore', category=FutureWarning)\n",
    "\n",
    "from pandas.core.common import SettingWithCopyWarning\n",
    "\n",
    "warnings.simplefilter(action=\"ignore\", category=SettingWithCopyWarning)\n",
    "\n",
    "pd.set_option('display.float_format', lambda x: '%.5f' % x)"
   ]
  },
  {
   "cell_type": "code",
   "execution_count": 38,
   "metadata": {},
   "outputs": [],
   "source": [
    "PATH = r\"C:/Users/kulka/Desktop/AV_Hackathon_Codes/Jobathon2/Data/\""
   ]
  },
  {
   "cell_type": "code",
   "execution_count": 39,
   "metadata": {},
   "outputs": [],
   "source": [
    "# Reading the data.\n",
    "train = pd.read_csv(PATH+\"train_s3TEQDk.csv\")\n",
    "test = pd.read_csv(PATH+\"test_mSzZ8RL.csv\")"
   ]
  },
  {
   "cell_type": "code",
   "execution_count": 40,
   "metadata": {},
   "outputs": [],
   "source": [
    "# dropping the ID column from both datasets and preparing the Submission file. \n",
    "Submission = test[['ID']]"
   ]
  },
  {
   "cell_type": "markdown",
   "metadata": {},
   "source": [
    "#### Brief look at the dataset"
   ]
  },
  {
   "cell_type": "code",
   "execution_count": 41,
   "metadata": {},
   "outputs": [
    {
     "data": {
      "text/html": [
       "<div>\n",
       "<style scoped>\n",
       "    .dataframe tbody tr th:only-of-type {\n",
       "        vertical-align: middle;\n",
       "    }\n",
       "\n",
       "    .dataframe tbody tr th {\n",
       "        vertical-align: top;\n",
       "    }\n",
       "\n",
       "    .dataframe thead th {\n",
       "        text-align: right;\n",
       "    }\n",
       "</style>\n",
       "<table border=\"1\" class=\"dataframe\">\n",
       "  <thead>\n",
       "    <tr style=\"text-align: right;\">\n",
       "      <th></th>\n",
       "      <th>ID</th>\n",
       "      <th>Gender</th>\n",
       "      <th>Age</th>\n",
       "      <th>Region_Code</th>\n",
       "      <th>Occupation</th>\n",
       "      <th>Channel_Code</th>\n",
       "      <th>Vintage</th>\n",
       "      <th>Credit_Product</th>\n",
       "      <th>Avg_Account_Balance</th>\n",
       "      <th>Is_Active</th>\n",
       "      <th>Is_Lead</th>\n",
       "    </tr>\n",
       "  </thead>\n",
       "  <tbody>\n",
       "    <tr>\n",
       "      <th>0</th>\n",
       "      <td>NNVBBKZB</td>\n",
       "      <td>Female</td>\n",
       "      <td>73</td>\n",
       "      <td>RG268</td>\n",
       "      <td>Other</td>\n",
       "      <td>X3</td>\n",
       "      <td>43</td>\n",
       "      <td>No</td>\n",
       "      <td>1045696</td>\n",
       "      <td>No</td>\n",
       "      <td>0</td>\n",
       "    </tr>\n",
       "    <tr>\n",
       "      <th>1</th>\n",
       "      <td>IDD62UNG</td>\n",
       "      <td>Female</td>\n",
       "      <td>30</td>\n",
       "      <td>RG277</td>\n",
       "      <td>Salaried</td>\n",
       "      <td>X1</td>\n",
       "      <td>32</td>\n",
       "      <td>No</td>\n",
       "      <td>581988</td>\n",
       "      <td>No</td>\n",
       "      <td>0</td>\n",
       "    </tr>\n",
       "    <tr>\n",
       "      <th>2</th>\n",
       "      <td>HD3DSEMC</td>\n",
       "      <td>Female</td>\n",
       "      <td>56</td>\n",
       "      <td>RG268</td>\n",
       "      <td>Self_Employed</td>\n",
       "      <td>X3</td>\n",
       "      <td>26</td>\n",
       "      <td>No</td>\n",
       "      <td>1484315</td>\n",
       "      <td>Yes</td>\n",
       "      <td>0</td>\n",
       "    </tr>\n",
       "    <tr>\n",
       "      <th>3</th>\n",
       "      <td>BF3NC7KV</td>\n",
       "      <td>Male</td>\n",
       "      <td>34</td>\n",
       "      <td>RG270</td>\n",
       "      <td>Salaried</td>\n",
       "      <td>X1</td>\n",
       "      <td>19</td>\n",
       "      <td>No</td>\n",
       "      <td>470454</td>\n",
       "      <td>No</td>\n",
       "      <td>0</td>\n",
       "    </tr>\n",
       "    <tr>\n",
       "      <th>4</th>\n",
       "      <td>TEASRWXV</td>\n",
       "      <td>Female</td>\n",
       "      <td>30</td>\n",
       "      <td>RG282</td>\n",
       "      <td>Salaried</td>\n",
       "      <td>X1</td>\n",
       "      <td>33</td>\n",
       "      <td>No</td>\n",
       "      <td>886787</td>\n",
       "      <td>No</td>\n",
       "      <td>0</td>\n",
       "    </tr>\n",
       "  </tbody>\n",
       "</table>\n",
       "</div>"
      ],
      "text/plain": [
       "         ID  Gender  Age Region_Code     Occupation Channel_Code  Vintage  \\\n",
       "0  NNVBBKZB  Female   73       RG268          Other           X3       43   \n",
       "1  IDD62UNG  Female   30       RG277       Salaried           X1       32   \n",
       "2  HD3DSEMC  Female   56       RG268  Self_Employed           X3       26   \n",
       "3  BF3NC7KV    Male   34       RG270       Salaried           X1       19   \n",
       "4  TEASRWXV  Female   30       RG282       Salaried           X1       33   \n",
       "\n",
       "  Credit_Product  Avg_Account_Balance Is_Active  Is_Lead  \n",
       "0             No              1045696        No        0  \n",
       "1             No               581988        No        0  \n",
       "2             No              1484315       Yes        0  \n",
       "3             No               470454        No        0  \n",
       "4             No               886787        No        0  "
      ]
     },
     "execution_count": 41,
     "metadata": {},
     "output_type": "execute_result"
    }
   ],
   "source": [
    "train.head()"
   ]
  },
  {
   "cell_type": "code",
   "execution_count": 42,
   "metadata": {},
   "outputs": [
    {
     "data": {
      "text/html": [
       "<div>\n",
       "<style scoped>\n",
       "    .dataframe tbody tr th:only-of-type {\n",
       "        vertical-align: middle;\n",
       "    }\n",
       "\n",
       "    .dataframe tbody tr th {\n",
       "        vertical-align: top;\n",
       "    }\n",
       "\n",
       "    .dataframe thead th {\n",
       "        text-align: right;\n",
       "    }\n",
       "</style>\n",
       "<table border=\"1\" class=\"dataframe\">\n",
       "  <thead>\n",
       "    <tr style=\"text-align: right;\">\n",
       "      <th></th>\n",
       "      <th>ID</th>\n",
       "      <th>Gender</th>\n",
       "      <th>Age</th>\n",
       "      <th>Region_Code</th>\n",
       "      <th>Occupation</th>\n",
       "      <th>Channel_Code</th>\n",
       "      <th>Vintage</th>\n",
       "      <th>Credit_Product</th>\n",
       "      <th>Avg_Account_Balance</th>\n",
       "      <th>Is_Active</th>\n",
       "    </tr>\n",
       "  </thead>\n",
       "  <tbody>\n",
       "    <tr>\n",
       "      <th>0</th>\n",
       "      <td>VBENBARO</td>\n",
       "      <td>Male</td>\n",
       "      <td>29</td>\n",
       "      <td>RG254</td>\n",
       "      <td>Other</td>\n",
       "      <td>X1</td>\n",
       "      <td>25</td>\n",
       "      <td>Yes</td>\n",
       "      <td>742366</td>\n",
       "      <td>No</td>\n",
       "    </tr>\n",
       "    <tr>\n",
       "      <th>1</th>\n",
       "      <td>CCMEWNKY</td>\n",
       "      <td>Male</td>\n",
       "      <td>43</td>\n",
       "      <td>RG268</td>\n",
       "      <td>Other</td>\n",
       "      <td>X2</td>\n",
       "      <td>49</td>\n",
       "      <td>NaN</td>\n",
       "      <td>925537</td>\n",
       "      <td>No</td>\n",
       "    </tr>\n",
       "    <tr>\n",
       "      <th>2</th>\n",
       "      <td>VK3KGA9M</td>\n",
       "      <td>Male</td>\n",
       "      <td>31</td>\n",
       "      <td>RG270</td>\n",
       "      <td>Salaried</td>\n",
       "      <td>X1</td>\n",
       "      <td>14</td>\n",
       "      <td>No</td>\n",
       "      <td>215949</td>\n",
       "      <td>No</td>\n",
       "    </tr>\n",
       "    <tr>\n",
       "      <th>3</th>\n",
       "      <td>TT8RPZVC</td>\n",
       "      <td>Male</td>\n",
       "      <td>29</td>\n",
       "      <td>RG272</td>\n",
       "      <td>Other</td>\n",
       "      <td>X1</td>\n",
       "      <td>33</td>\n",
       "      <td>No</td>\n",
       "      <td>868070</td>\n",
       "      <td>No</td>\n",
       "    </tr>\n",
       "    <tr>\n",
       "      <th>4</th>\n",
       "      <td>SHQZEYTZ</td>\n",
       "      <td>Female</td>\n",
       "      <td>29</td>\n",
       "      <td>RG270</td>\n",
       "      <td>Other</td>\n",
       "      <td>X1</td>\n",
       "      <td>19</td>\n",
       "      <td>No</td>\n",
       "      <td>657087</td>\n",
       "      <td>No</td>\n",
       "    </tr>\n",
       "  </tbody>\n",
       "</table>\n",
       "</div>"
      ],
      "text/plain": [
       "         ID  Gender  Age Region_Code Occupation Channel_Code  Vintage  \\\n",
       "0  VBENBARO    Male   29       RG254      Other           X1       25   \n",
       "1  CCMEWNKY    Male   43       RG268      Other           X2       49   \n",
       "2  VK3KGA9M    Male   31       RG270   Salaried           X1       14   \n",
       "3  TT8RPZVC    Male   29       RG272      Other           X1       33   \n",
       "4  SHQZEYTZ  Female   29       RG270      Other           X1       19   \n",
       "\n",
       "  Credit_Product  Avg_Account_Balance Is_Active  \n",
       "0            Yes               742366        No  \n",
       "1            NaN               925537        No  \n",
       "2             No               215949        No  \n",
       "3             No               868070        No  \n",
       "4             No               657087        No  "
      ]
     },
     "execution_count": 42,
     "metadata": {},
     "output_type": "execute_result"
    }
   ],
   "source": [
    "test.head()"
   ]
  },
  {
   "cell_type": "code",
   "execution_count": 43,
   "metadata": {},
   "outputs": [
    {
     "name": "stdout",
     "output_type": "stream",
     "text": [
      "Training Dataset Shape: (245725, 11)\n",
      "Testing Dataset Shape: (105312, 10)\n",
      "Final Dataset Shape: (351037, 11)\n"
     ]
    }
   ],
   "source": [
    "# concatenating both datasets for easy analysis.\n",
    "df = pd.concat([train,test],axis=0)\n",
    "print (\"Training Dataset Shape: {}\".format(train.shape))\n",
    "print (\"Testing Dataset Shape: {}\".format(test.shape))\n",
    "print (\"Final Dataset Shape: {}\".format(df.shape))"
   ]
  },
  {
   "cell_type": "code",
   "execution_count": 44,
   "metadata": {},
   "outputs": [
    {
     "data": {
      "text/html": [
       "<div>\n",
       "<style scoped>\n",
       "    .dataframe tbody tr th:only-of-type {\n",
       "        vertical-align: middle;\n",
       "    }\n",
       "\n",
       "    .dataframe tbody tr th {\n",
       "        vertical-align: top;\n",
       "    }\n",
       "\n",
       "    .dataframe thead th {\n",
       "        text-align: right;\n",
       "    }\n",
       "</style>\n",
       "<table border=\"1\" class=\"dataframe\">\n",
       "  <thead>\n",
       "    <tr style=\"text-align: right;\">\n",
       "      <th></th>\n",
       "      <th>ID</th>\n",
       "      <th>Gender</th>\n",
       "      <th>Age</th>\n",
       "      <th>Region_Code</th>\n",
       "      <th>Occupation</th>\n",
       "      <th>Channel_Code</th>\n",
       "      <th>Vintage</th>\n",
       "      <th>Credit_Product</th>\n",
       "      <th>Avg_Account_Balance</th>\n",
       "      <th>Is_Active</th>\n",
       "      <th>Is_Lead</th>\n",
       "    </tr>\n",
       "  </thead>\n",
       "  <tbody>\n",
       "    <tr>\n",
       "      <th>0</th>\n",
       "      <td>NNVBBKZB</td>\n",
       "      <td>Female</td>\n",
       "      <td>73</td>\n",
       "      <td>RG268</td>\n",
       "      <td>Other</td>\n",
       "      <td>X3</td>\n",
       "      <td>43</td>\n",
       "      <td>No</td>\n",
       "      <td>1045696</td>\n",
       "      <td>No</td>\n",
       "      <td>0.00000</td>\n",
       "    </tr>\n",
       "    <tr>\n",
       "      <th>1</th>\n",
       "      <td>IDD62UNG</td>\n",
       "      <td>Female</td>\n",
       "      <td>30</td>\n",
       "      <td>RG277</td>\n",
       "      <td>Salaried</td>\n",
       "      <td>X1</td>\n",
       "      <td>32</td>\n",
       "      <td>No</td>\n",
       "      <td>581988</td>\n",
       "      <td>No</td>\n",
       "      <td>0.00000</td>\n",
       "    </tr>\n",
       "    <tr>\n",
       "      <th>2</th>\n",
       "      <td>HD3DSEMC</td>\n",
       "      <td>Female</td>\n",
       "      <td>56</td>\n",
       "      <td>RG268</td>\n",
       "      <td>Self_Employed</td>\n",
       "      <td>X3</td>\n",
       "      <td>26</td>\n",
       "      <td>No</td>\n",
       "      <td>1484315</td>\n",
       "      <td>Yes</td>\n",
       "      <td>0.00000</td>\n",
       "    </tr>\n",
       "    <tr>\n",
       "      <th>3</th>\n",
       "      <td>BF3NC7KV</td>\n",
       "      <td>Male</td>\n",
       "      <td>34</td>\n",
       "      <td>RG270</td>\n",
       "      <td>Salaried</td>\n",
       "      <td>X1</td>\n",
       "      <td>19</td>\n",
       "      <td>No</td>\n",
       "      <td>470454</td>\n",
       "      <td>No</td>\n",
       "      <td>0.00000</td>\n",
       "    </tr>\n",
       "    <tr>\n",
       "      <th>4</th>\n",
       "      <td>TEASRWXV</td>\n",
       "      <td>Female</td>\n",
       "      <td>30</td>\n",
       "      <td>RG282</td>\n",
       "      <td>Salaried</td>\n",
       "      <td>X1</td>\n",
       "      <td>33</td>\n",
       "      <td>No</td>\n",
       "      <td>886787</td>\n",
       "      <td>No</td>\n",
       "      <td>0.00000</td>\n",
       "    </tr>\n",
       "  </tbody>\n",
       "</table>\n",
       "</div>"
      ],
      "text/plain": [
       "         ID  Gender  Age Region_Code     Occupation Channel_Code  Vintage  \\\n",
       "0  NNVBBKZB  Female   73       RG268          Other           X3       43   \n",
       "1  IDD62UNG  Female   30       RG277       Salaried           X1       32   \n",
       "2  HD3DSEMC  Female   56       RG268  Self_Employed           X3       26   \n",
       "3  BF3NC7KV    Male   34       RG270       Salaried           X1       19   \n",
       "4  TEASRWXV  Female   30       RG282       Salaried           X1       33   \n",
       "\n",
       "  Credit_Product  Avg_Account_Balance Is_Active  Is_Lead  \n",
       "0             No              1045696        No  0.00000  \n",
       "1             No               581988        No  0.00000  \n",
       "2             No              1484315       Yes  0.00000  \n",
       "3             No               470454        No  0.00000  \n",
       "4             No               886787        No  0.00000  "
      ]
     },
     "execution_count": 44,
     "metadata": {},
     "output_type": "execute_result"
    }
   ],
   "source": [
    "df.head()"
   ]
  },
  {
   "cell_type": "code",
   "execution_count": 45,
   "metadata": {},
   "outputs": [
    {
     "name": "stdout",
     "output_type": "stream",
     "text": [
      "Shape of the dataset is:(351037, 11)\n",
      "---------------------------------------------------------\n",
      "Missing Data Information\n",
      "---------------------------------------------------------\n",
      "                Pct_Missing\n",
      "Credit_Product     11.92100\n",
      "Is_Lead            30.00000\n",
      "---------------------------------------------------------\n",
      "Descriptive Statistics Of Numerical Variables\n",
      "---------------------------------------------------------\n",
      "               Age      Vintage  Avg_Account_Balance      Is_Lead\n",
      "count 351037.00000 351037.00000         351037.00000 245725.00000\n",
      "mean      43.86072     46.92424        1130140.57499      0.23721\n",
      "std       14.84193     32.32930         856952.95011      0.42537\n",
      "min       23.00000      7.00000          20790.00000      0.00000\n",
      "25%       30.00000     20.00000         604185.00000      0.00000\n",
      "50%       43.00000     32.00000         895162.00000      0.00000\n",
      "75%       54.00000     73.00000        1368152.00000      0.00000\n",
      "max       85.00000    135.00000       10352009.00000      1.00000\n",
      "---------------------------------------------------------\n",
      "Number Unique Values in Categorical Columns\n",
      "---------------------------------------------------------\n",
      "Number of Unique Values in ID Column Are:351037\n",
      "Number of Unique Values in Gender Column Are:2\n",
      "Number of Unique Values in Region_Code Column Are:35\n",
      "Number of Unique Values in Occupation Column Are:4\n",
      "Number of Unique Values in Channel_Code Column Are:4\n",
      "Number of Unique Values in Credit_Product Column Are:2\n",
      "Number of Unique Values in Is_Active Column Are:2\n",
      "---------------------------------------------------------\n",
      "There Are No Datetime Columns In The Dataset\n"
     ]
    }
   ],
   "source": [
    "def dataset_info(df):\n",
    "    # Suppressing the scientific notation\n",
    "    pd.set_option('display.float_format', lambda x: '%.5f' % x)\n",
    "    \n",
    "    # Information about the shape of the dataset\n",
    "    print (\"Shape of the dataset is:{}\".format(df.shape))\n",
    "    print (\"---------------------------------------------------------\")\n",
    "    \n",
    "    # Missing columns in the dataset and the percentage of missing values\n",
    "    missing_cols = []\n",
    "    missing_pct = []\n",
    "    for col in df.columns:\n",
    "        if df[col].isna().sum() > 0:\n",
    "            missing_cols.append(col)\n",
    "            missing_pct.append(round((df[col].isna().sum()/len(df))*100,3))\n",
    "    missing_data = pd.DataFrame({\"Pct_Missing\":missing_pct},index=missing_cols)\n",
    "    if len(missing_cols)==0:\n",
    "        print (\"There are no missing values\")\n",
    "    else:\n",
    "        print (\"Missing Data Information\")\n",
    "        print (\"---------------------------------------------------------\")\n",
    "        print (missing_data)\n",
    "    print (\"---------------------------------------------------------\")\n",
    "    \n",
    "    # Descriptive statistic of the numerical data\n",
    "    numerical_columns = list(df.select_dtypes(exclude=\"object\").columns)\n",
    "    print (\"Descriptive Statistics Of Numerical Variables\")\n",
    "    print (\"---------------------------------------------------------\")\n",
    "    print (df[numerical_columns].describe())\n",
    "    print (\"---------------------------------------------------------\")\n",
    "    \n",
    "    # Checking the number of unique values in the categorical columns in the data\n",
    "    categorical_columns = list(df.select_dtypes(include=\"object\").columns)\n",
    "    print (\"Number Unique Values in Categorical Columns\")\n",
    "    print (\"---------------------------------------------------------\")\n",
    "    for col in categorical_columns:\n",
    "        print (\"Number of Unique Values in {} Column Are:{}\".format(col,df[col].nunique()))\n",
    "    print (\"---------------------------------------------------------\")\n",
    "        \n",
    "    # Getting the range of the datetime columns, if any\n",
    "    datetype_columns = list(df.select_dtypes(include='datetime').columns)\n",
    "    if len(datetype_columns) == 0:\n",
    "        print (\"There Are No Datetime Columns In The Dataset\")\n",
    "    else :\n",
    "        print (\"Datetime Columns are:{}\".format(datetype_columns))\n",
    "        print (\"---------------------------------------------------------\")\n",
    "        for col in datetype_columns:\n",
    "            print (\"{} Datetime Column Ranges From {} to {}\".format(col,df[col].min(),df[col].max()))\n",
    "            \n",
    "dataset_info(df)"
   ]
  },
  {
   "cell_type": "markdown",
   "metadata": {},
   "source": [
    "**Initial Observations**\n",
    "1. credit_product has missing values in both train and test dataset.\n",
    "2. 30% missing data in the is_lead column are from test data.\n",
    "3. There are no datetime columns in the dataset.\n",
    "4. Cardinality of region_code variable is high. \n",
    "5. Ages of the customers range from 23 to 85. With average age around 44 and Median age pf 43. \n",
    "6. Vintage of customers range from 7 months to 135 months with average vintage being 47 months. \n",
    "7. Average account balance ranges from 20,790 to 1,03,52,009. "
   ]
  },
  {
   "cell_type": "markdown",
   "metadata": {},
   "source": [
    "#### Dependent Variable Distribution"
   ]
  },
  {
   "cell_type": "code",
   "execution_count": 46,
   "metadata": {},
   "outputs": [
    {
     "data": {
      "text/plain": [
       "0   0.76279\n",
       "1   0.23721\n",
       "Name: Is_Lead, dtype: float64"
      ]
     },
     "execution_count": 46,
     "metadata": {},
     "output_type": "execute_result"
    }
   ],
   "source": [
    "train['Is_Lead'].value_counts(normalize=True)"
   ]
  },
  {
   "cell_type": "code",
   "execution_count": 47,
   "metadata": {},
   "outputs": [
    {
     "data": {
      "image/png": "[encoded data removed]",
      "text/plain": [
       "<Figure size 432x288 with 1 Axes>"
      ]
     },
     "metadata": {
      "needs_background": "light"
     },
     "output_type": "display_data"
    }
   ],
   "source": [
    "_ = sns.countplot(train['Is_Lead'])\n",
    "plt.title('Distribution of Dependent Variable');"
   ]
  },
  {
   "cell_type": "markdown",
   "metadata": {},
   "source": [
    "We can see that around 23.7% of the customers have expressed interest in the offering and 76.2% of the customers have not. The dependent variable is not highly imbalanced althoug there is slight imbalance in the data. "
   ]
  },
  {
   "cell_type": "code",
   "execution_count": 48,
   "metadata": {},
   "outputs": [
    {
     "name": "stdout",
     "output_type": "stream",
     "text": [
      "Categorical Columns are:['Gender', 'Region_Code', 'Occupation', 'Channel_Code', 'Credit_Product', 'Is_Active']\n",
      "Numerical Columns are:['Age', 'Vintage', 'Avg_Account_Balance', 'Is_Lead']\n"
     ]
    }
   ],
   "source": [
    "# separating categorical and numerical columns\n",
    "cat_cols = [col for col in df.columns if ((df[col].dtype==\"object\")&(col!=\"ID\"))]\n",
    "num_cols = [col for col in df.columns if col not in cat_cols+[\"ID\"]]\n",
    "print (\"Categorical Columns are:{}\".format(cat_cols))\n",
    "print (\"Numerical Columns are:{}\".format(num_cols))"
   ]
  },
  {
   "cell_type": "markdown",
   "metadata": {},
   "source": [
    "#### Dependent Variable - Univariate Analysis"
   ]
  },
  {
   "cell_type": "code",
   "execution_count": 49,
   "metadata": {
    "scrolled": false
   },
   "outputs": [
    {
     "data": {
      "image/png": "[encoded data removed]",
      "text/plain": [
       "<Figure size 432x288 with 1 Axes>"
      ]
     },
     "metadata": {
      "needs_background": "light"
     },
     "output_type": "display_data"
    },
    {
     "data": {
      "image/png": "[encoded data removed]",
      "text/plain": [
       "<Figure size 432x288 with 1 Axes>"
      ]
     },
     "metadata": {
      "needs_background": "light"
     },
     "output_type": "display_data"
    },
    {
     "data": {
      "image/png": "[encoded data removed]",
      "text/plain": [
       "<Figure size 432x288 with 1 Axes>"
      ]
     },
     "metadata": {
      "needs_background": "light"
     },
     "output_type": "display_data"
    },
    {
     "data": {
      "image/png": "[encoded data removed]",
      "text/plain": [
       "<Figure size 432x288 with 1 Axes>"
      ]
     },
     "metadata": {
      "needs_background": "light"
     },
     "output_type": "display_data"
    },
    {
     "data": {
      "image/png": "[encoded data removed]",
      "text/plain": [
       "<Figure size 432x288 with 1 Axes>"
      ]
     },
     "metadata": {
      "needs_background": "light"
     },
     "output_type": "display_data"
    },
    {
     "data": {
      "image/png": "[encoded data removed]",
      "text/plain": [
       "<Figure size 432x288 with 1 Axes>"
      ]
     },
     "metadata": {
      "needs_background": "light"
     },
     "output_type": "display_data"
    }
   ],
   "source": [
    "def categorical_plots(df,columns):\n",
    "    # This function basically creates the countplot of all categorical variables.\n",
    "    # columns should be a list of categorical variables.\n",
    "    for ind,col in enumerate(columns):\n",
    "        plt.figure(ind);\n",
    "        df[col].value_counts(dropna=False,normalize=True).plot.bar();\n",
    "        plt.title(\"Distribution of {} column\".format(col));\n",
    "        plt.xlabel(col);\n",
    "        plt.ylabel(\"Percentage\");\n",
    "        plt.xticks(rotation=90);\n",
    "categorical_plots(df,cat_cols)"
   ]
  },
  {
   "cell_type": "markdown",
   "metadata": {},
   "source": [
    "**Observations**\n",
    "1. There is almost equal distribution in Male and Female customers, altough Male customers are slightly higher in number.\n",
    "2. region_code column has high cardinality, like we had already seen above. Some of the regions hae high customers as compared to other regions. \n",
    "3. Most of the customers are Self-Employed with very few Entrepreneurs. \n",
    "4. X1 seems to be a preferred Acquisition channel and X4 seems to be least.\n",
    "5. credit_product has missing values as we had already seen above, apart from this, most of the customers do not have an active credit product with the bank.\n",
    "6. Around 60% of the customers have not been active in the last 3 months. "
   ]
  },
  {
   "cell_type": "markdown",
   "metadata": {},
   "source": [
    "#### Bi-Variate Analysis, Categorical Variables - Target"
   ]
  },
  {
   "cell_type": "code",
   "execution_count": 50,
   "metadata": {
    "scrolled": false
   },
   "outputs": [
    {
     "data": {
      "text/plain": [
       "<Figure size 432x288 with 0 Axes>"
      ]
     },
     "metadata": {},
     "output_type": "display_data"
    },
    {
     "data": {
      "image/png": "[encoded data removed]",
      "text/plain": [
       "<Figure size 432x288 with 1 Axes>"
      ]
     },
     "metadata": {
      "needs_background": "light"
     },
     "output_type": "display_data"
    },
    {
     "data": {
      "image/png": "[encoded data removed]",
      "text/plain": [
       "<Figure size 432x288 with 1 Axes>"
      ]
     },
     "metadata": {
      "needs_background": "light"
     },
     "output_type": "display_data"
    },
    {
     "data": {
      "image/png": "[encoded data removed]",
      "text/plain": [
       "<Figure size 432x288 with 1 Axes>"
      ]
     },
     "metadata": {
      "needs_background": "light"
     },
     "output_type": "display_data"
    },
    {
     "data": {
      "image/png": "[encoded data removed]",
      "text/plain": [
       "<Figure size 432x288 with 1 Axes>"
      ]
     },
     "metadata": {
      "needs_background": "light"
     },
     "output_type": "display_data"
    },
    {
     "data": {
      "image/png": "[encoded data removed]",
      "text/plain": [
       "<Figure size 432x288 with 1 Axes>"
      ]
     },
     "metadata": {
      "needs_background": "light"
     },
     "output_type": "display_data"
    },
    {
     "data": {
      "image/png": "[encoded data removed]",
      "text/plain": [
       "<Figure size 432x288 with 1 Axes>"
      ]
     },
     "metadata": {
      "needs_background": "light"
     },
     "output_type": "display_data"
    }
   ],
   "source": [
    "def categorical_plots(df,columns):\n",
    "    # This function basically creates the countplot of all categorical variables.\n",
    "    # columns should be a list of categorical variables.\n",
    "    for ind,col in enumerate(columns):\n",
    "        plt.figure(ind);\n",
    "        df.groupby(col)['Is_Lead'].value_counts(normalize=True).unstack().plot(kind='bar');\n",
    "        plt.title(\"Distribution of {} column\".format(col));\n",
    "        plt.xlabel(col);\n",
    "        plt.ylabel(\"Percentage\");\n",
    "        plt.xticks(rotation=90);\n",
    "categorical_plots(train,cat_cols)"
   ]
  },
  {
   "cell_type": "markdown",
   "metadata": {},
   "source": [
    "**Observations**\n",
    "1. We can observe that Entrepreneurs have a higher chance of Subscribing to the offer, this is contrary to all the plots above. This may also be attributed to the fact that the count of Entrepreneurs is low."
   ]
  },
  {
   "cell_type": "markdown",
   "metadata": {},
   "source": [
    "#### Numerical Feature Univariate Analysis - Distribution plots"
   ]
  },
  {
   "cell_type": "code",
   "execution_count": 51,
   "metadata": {},
   "outputs": [
    {
     "data": {
      "text/plain": [
       "<Figure size 432x288 with 0 Axes>"
      ]
     },
     "metadata": {},
     "output_type": "display_data"
    },
    {
     "data": {
      "image/png": "[encoded data removed]",
      "text/plain": [
       "<Figure size 360x360 with 1 Axes>"
      ]
     },
     "metadata": {
      "needs_background": "light"
     },
     "output_type": "display_data"
    },
    {
     "data": {
      "image/png": "[encoded data removed]",
      "text/plain": [
       "<Figure size 360x360 with 1 Axes>"
      ]
     },
     "metadata": {
      "needs_background": "light"
     },
     "output_type": "display_data"
    },
    {
     "data": {
      "image/png": "[encoded data removed]",
      "text/plain": [
       "<Figure size 360x360 with 1 Axes>"
      ]
     },
     "metadata": {
      "needs_background": "light"
     },
     "output_type": "display_data"
    },
    {
     "data": {
      "image/png": "[encoded data removed]",
      "text/plain": [
       "<Figure size 360x360 with 1 Axes>"
      ]
     },
     "metadata": {
      "needs_background": "light"
     },
     "output_type": "display_data"
    }
   ],
   "source": [
    "def distribution_plots(df,columns):\n",
    "    # This small function basically creates the distribution plot of all numerical variables.\n",
    "    # columns should be a list of numerical variables.\n",
    "    for ind,col in enumerate(columns):\n",
    "        plt.figure(ind);\n",
    "        sns.displot(df[col],kde=False);\n",
    "        plt.title(\"Distribution Plot of {} column\".format(col));\n",
    "        plt.xlabel(col);\n",
    "distribution_plots(train,num_cols)"
   ]
  },
  {
   "cell_type": "markdown",
   "metadata": {},
   "source": [
    "**Observations**\n",
    "1. Average Balance is positively skewed which is expected because very few people will have high balances and most people will have low to medium balance.\n",
    "2. Maximum values of the Vintage variable seems to be between 0 and 40. \n",
    "3. 25 to 35 seems to be majorit age group among the customers. "
   ]
  },
  {
   "cell_type": "code",
   "execution_count": 52,
   "metadata": {},
   "outputs": [
    {
     "name": "stdout",
     "output_type": "stream",
     "text": [
      "Values above 2510200.0 and Values below -539224.0 can be considered as outliers\n"
     ]
    }
   ],
   "source": [
    "Q1 = train['Avg_Account_Balance'].quantile(0.25)\n",
    "Q3 = train['Avg_Account_Balance'].quantile(0.75)\n",
    "IQR = Q3-Q1\n",
    "print (\"Values above {} and Values below {} can be considered as outliers\".format(Q3+1.5*IQR,Q1-1.5*IQR))"
   ]
  },
  {
   "cell_type": "markdown",
   "metadata": {},
   "source": [
    "#### Numerical Feature Univariate Analysis - Box Plots"
   ]
  },
  {
   "cell_type": "code",
   "execution_count": 53,
   "metadata": {},
   "outputs": [
    {
     "data": {
      "image/png": "[encoded data removed]",
      "text/plain": [
       "<Figure size 432x288 with 1 Axes>"
      ]
     },
     "metadata": {
      "needs_background": "light"
     },
     "output_type": "display_data"
    },
    {
     "data": {
      "image/png": "[encoded data removed]",
      "text/plain": [
       "<Figure size 432x288 with 1 Axes>"
      ]
     },
     "metadata": {
      "needs_background": "light"
     },
     "output_type": "display_data"
    },
    {
     "data": {
      "image/png": "[encoded data removed]",
      "text/plain": [
       "<Figure size 432x288 with 1 Axes>"
      ]
     },
     "metadata": {
      "needs_background": "light"
     },
     "output_type": "display_data"
    },
    {
     "data": {
      "image/png": "[encoded data removed]",
      "text/plain": [
       "<Figure size 432x288 with 1 Axes>"
      ]
     },
     "metadata": {
      "needs_background": "light"
     },
     "output_type": "display_data"
    }
   ],
   "source": [
    "def box_plots(df,columns):\n",
    "    # This small function basically creates the distribution plot of all numerical variables.\n",
    "    # columns should be a list of numerical variables.\n",
    "    for ind,col in enumerate(columns):\n",
    "        plt.figure(ind);\n",
    "        sns.boxplot(df[col]);\n",
    "        plt.title(\"Distribution Plot of {} column\".format(col));\n",
    "        plt.xlabel(col);\n",
    "box_plots(train,num_cols)"
   ]
  },
  {
   "cell_type": "markdown",
   "metadata": {},
   "source": [
    "**Observations**\n",
    "1. Average Balance seems to have some outliers but none of the other variables have outliers. "
   ]
  },
  {
   "cell_type": "markdown",
   "metadata": {},
   "source": [
    "#### Bi-Variate KDE Plot - Numerical Variable Vs Target"
   ]
  },
  {
   "cell_type": "code",
   "execution_count": 54,
   "metadata": {},
   "outputs": [
    {
     "data": {
      "text/html": [
       "<div>\n",
       "<style scoped>\n",
       "    .dataframe tbody tr th:only-of-type {\n",
       "        vertical-align: middle;\n",
       "    }\n",
       "\n",
       "    .dataframe tbody tr th {\n",
       "        vertical-align: top;\n",
       "    }\n",
       "\n",
       "    .dataframe thead th {\n",
       "        text-align: right;\n",
       "    }\n",
       "</style>\n",
       "<table border=\"1\" class=\"dataframe\">\n",
       "  <thead>\n",
       "    <tr style=\"text-align: right;\">\n",
       "      <th></th>\n",
       "      <th>ID</th>\n",
       "      <th>Gender</th>\n",
       "      <th>Age</th>\n",
       "      <th>Region_Code</th>\n",
       "      <th>Occupation</th>\n",
       "      <th>Channel_Code</th>\n",
       "      <th>Vintage</th>\n",
       "      <th>Credit_Product</th>\n",
       "      <th>Avg_Account_Balance</th>\n",
       "      <th>Is_Active</th>\n",
       "      <th>Is_Lead</th>\n",
       "    </tr>\n",
       "  </thead>\n",
       "  <tbody>\n",
       "    <tr>\n",
       "      <th>0</th>\n",
       "      <td>NNVBBKZB</td>\n",
       "      <td>Female</td>\n",
       "      <td>73</td>\n",
       "      <td>RG268</td>\n",
       "      <td>Other</td>\n",
       "      <td>X3</td>\n",
       "      <td>43</td>\n",
       "      <td>No</td>\n",
       "      <td>1045696</td>\n",
       "      <td>No</td>\n",
       "      <td>0</td>\n",
       "    </tr>\n",
       "    <tr>\n",
       "      <th>1</th>\n",
       "      <td>IDD62UNG</td>\n",
       "      <td>Female</td>\n",
       "      <td>30</td>\n",
       "      <td>RG277</td>\n",
       "      <td>Salaried</td>\n",
       "      <td>X1</td>\n",
       "      <td>32</td>\n",
       "      <td>No</td>\n",
       "      <td>581988</td>\n",
       "      <td>No</td>\n",
       "      <td>0</td>\n",
       "    </tr>\n",
       "    <tr>\n",
       "      <th>2</th>\n",
       "      <td>HD3DSEMC</td>\n",
       "      <td>Female</td>\n",
       "      <td>56</td>\n",
       "      <td>RG268</td>\n",
       "      <td>Self_Employed</td>\n",
       "      <td>X3</td>\n",
       "      <td>26</td>\n",
       "      <td>No</td>\n",
       "      <td>1484315</td>\n",
       "      <td>Yes</td>\n",
       "      <td>0</td>\n",
       "    </tr>\n",
       "    <tr>\n",
       "      <th>3</th>\n",
       "      <td>BF3NC7KV</td>\n",
       "      <td>Male</td>\n",
       "      <td>34</td>\n",
       "      <td>RG270</td>\n",
       "      <td>Salaried</td>\n",
       "      <td>X1</td>\n",
       "      <td>19</td>\n",
       "      <td>No</td>\n",
       "      <td>470454</td>\n",
       "      <td>No</td>\n",
       "      <td>0</td>\n",
       "    </tr>\n",
       "    <tr>\n",
       "      <th>4</th>\n",
       "      <td>TEASRWXV</td>\n",
       "      <td>Female</td>\n",
       "      <td>30</td>\n",
       "      <td>RG282</td>\n",
       "      <td>Salaried</td>\n",
       "      <td>X1</td>\n",
       "      <td>33</td>\n",
       "      <td>No</td>\n",
       "      <td>886787</td>\n",
       "      <td>No</td>\n",
       "      <td>0</td>\n",
       "    </tr>\n",
       "  </tbody>\n",
       "</table>\n",
       "</div>"
      ],
      "text/plain": [
       "         ID  Gender  Age Region_Code     Occupation Channel_Code  Vintage  \\\n",
       "0  NNVBBKZB  Female   73       RG268          Other           X3       43   \n",
       "1  IDD62UNG  Female   30       RG277       Salaried           X1       32   \n",
       "2  HD3DSEMC  Female   56       RG268  Self_Employed           X3       26   \n",
       "3  BF3NC7KV    Male   34       RG270       Salaried           X1       19   \n",
       "4  TEASRWXV  Female   30       RG282       Salaried           X1       33   \n",
       "\n",
       "  Credit_Product  Avg_Account_Balance Is_Active  Is_Lead  \n",
       "0             No              1045696        No        0  \n",
       "1             No               581988        No        0  \n",
       "2             No              1484315       Yes        0  \n",
       "3             No               470454        No        0  \n",
       "4             No               886787        No        0  "
      ]
     },
     "execution_count": 54,
     "metadata": {},
     "output_type": "execute_result"
    }
   ],
   "source": [
    "train.head()"
   ]
  },
  {
   "cell_type": "code",
   "execution_count": 55,
   "metadata": {},
   "outputs": [
    {
     "data": {
      "text/html": [
       "<div>\n",
       "<style scoped>\n",
       "    .dataframe tbody tr th:only-of-type {\n",
       "        vertical-align: middle;\n",
       "    }\n",
       "\n",
       "    .dataframe tbody tr th {\n",
       "        vertical-align: top;\n",
       "    }\n",
       "\n",
       "    .dataframe thead th {\n",
       "        text-align: right;\n",
       "    }\n",
       "</style>\n",
       "<table border=\"1\" class=\"dataframe\">\n",
       "  <thead>\n",
       "    <tr style=\"text-align: right;\">\n",
       "      <th></th>\n",
       "      <th>ID</th>\n",
       "      <th>Gender</th>\n",
       "      <th>Age</th>\n",
       "      <th>Region_Code</th>\n",
       "      <th>Occupation</th>\n",
       "      <th>Channel_Code</th>\n",
       "      <th>Vintage</th>\n",
       "      <th>Credit_Product</th>\n",
       "      <th>Avg_Account_Balance</th>\n",
       "      <th>Is_Active</th>\n",
       "    </tr>\n",
       "  </thead>\n",
       "  <tbody>\n",
       "    <tr>\n",
       "      <th>0</th>\n",
       "      <td>VBENBARO</td>\n",
       "      <td>Male</td>\n",
       "      <td>29</td>\n",
       "      <td>RG254</td>\n",
       "      <td>Other</td>\n",
       "      <td>X1</td>\n",
       "      <td>25</td>\n",
       "      <td>Yes</td>\n",
       "      <td>742366</td>\n",
       "      <td>No</td>\n",
       "    </tr>\n",
       "    <tr>\n",
       "      <th>1</th>\n",
       "      <td>CCMEWNKY</td>\n",
       "      <td>Male</td>\n",
       "      <td>43</td>\n",
       "      <td>RG268</td>\n",
       "      <td>Other</td>\n",
       "      <td>X2</td>\n",
       "      <td>49</td>\n",
       "      <td>NaN</td>\n",
       "      <td>925537</td>\n",
       "      <td>No</td>\n",
       "    </tr>\n",
       "    <tr>\n",
       "      <th>2</th>\n",
       "      <td>VK3KGA9M</td>\n",
       "      <td>Male</td>\n",
       "      <td>31</td>\n",
       "      <td>RG270</td>\n",
       "      <td>Salaried</td>\n",
       "      <td>X1</td>\n",
       "      <td>14</td>\n",
       "      <td>No</td>\n",
       "      <td>215949</td>\n",
       "      <td>No</td>\n",
       "    </tr>\n",
       "    <tr>\n",
       "      <th>3</th>\n",
       "      <td>TT8RPZVC</td>\n",
       "      <td>Male</td>\n",
       "      <td>29</td>\n",
       "      <td>RG272</td>\n",
       "      <td>Other</td>\n",
       "      <td>X1</td>\n",
       "      <td>33</td>\n",
       "      <td>No</td>\n",
       "      <td>868070</td>\n",
       "      <td>No</td>\n",
       "    </tr>\n",
       "    <tr>\n",
       "      <th>4</th>\n",
       "      <td>SHQZEYTZ</td>\n",
       "      <td>Female</td>\n",
       "      <td>29</td>\n",
       "      <td>RG270</td>\n",
       "      <td>Other</td>\n",
       "      <td>X1</td>\n",
       "      <td>19</td>\n",
       "      <td>No</td>\n",
       "      <td>657087</td>\n",
       "      <td>No</td>\n",
       "    </tr>\n",
       "  </tbody>\n",
       "</table>\n",
       "</div>"
      ],
      "text/plain": [
       "         ID  Gender  Age Region_Code Occupation Channel_Code  Vintage  \\\n",
       "0  VBENBARO    Male   29       RG254      Other           X1       25   \n",
       "1  CCMEWNKY    Male   43       RG268      Other           X2       49   \n",
       "2  VK3KGA9M    Male   31       RG270   Salaried           X1       14   \n",
       "3  TT8RPZVC    Male   29       RG272      Other           X1       33   \n",
       "4  SHQZEYTZ  Female   29       RG270      Other           X1       19   \n",
       "\n",
       "  Credit_Product  Avg_Account_Balance Is_Active  \n",
       "0            Yes               742366        No  \n",
       "1            NaN               925537        No  \n",
       "2             No               215949        No  \n",
       "3             No               868070        No  \n",
       "4             No               657087        No  "
      ]
     },
     "execution_count": 55,
     "metadata": {},
     "output_type": "execute_result"
    }
   ],
   "source": [
    "test.head()"
   ]
  },
  {
   "cell_type": "code",
   "execution_count": 56,
   "metadata": {},
   "outputs": [
    {
     "data": {
      "image/png": "[encoded data removed]",
      "text/plain": [
       "<Figure size 432x288 with 1 Axes>"
      ]
     },
     "metadata": {
      "needs_background": "light"
     },
     "output_type": "display_data"
    },
    {
     "data": {
      "image/png": "[encoded data removed]",
      "text/plain": [
       "<Figure size 432x288 with 1 Axes>"
      ]
     },
     "metadata": {
      "needs_background": "light"
     },
     "output_type": "display_data"
    },
    {
     "data": {
      "image/png": "[encoded data removed]",
      "text/plain": [
       "<Figure size 432x288 with 1 Axes>"
      ]
     },
     "metadata": {
      "needs_background": "light"
     },
     "output_type": "display_data"
    }
   ],
   "source": [
    "def distribution_plots(df,columns):\n",
    "    # This small function basically creates the distribution plot of all numerical variables.\n",
    "    # columns should be a list of numerical variables.\n",
    "    for ind,col in enumerate(columns):\n",
    "        plt.figure(ind);\n",
    "        sns.kdeplot(data=df,x=col,hue='Is_Lead',multiple='fill');\n",
    "        plt.title(\"KDE Plot of {} with respect to Target column\".format(col));\n",
    "        plt.xlabel(col);\n",
    "distribution_plots(train,['Age','Vintage','Avg_Account_Balance'])"
   ]
  },
  {
   "cell_type": "markdown",
   "metadata": {},
   "source": [
    "**Observations**\n",
    "1. We can see that customers below the age of 30 have minimal chance of subscribing to the offer. Ages 45-60 have the same chance of subscribing to the offer, Ages above 80 have higher chance (this might be attributed to the fact that there are few customers above 80 and most of them have subscribed to the offer).\n",
    "2. Customers who have been with the Bank for more than 125 months have higher chance of subscribing , so do new customers. Customers who have been with the bank between 80-100 months also have decent chance of subscribing to the offer. \n",
    "3. Customers with low balance and very high balance have good chance of subscribing to the offer, otherwise the probability of subscribing remains constant. "
   ]
  },
  {
   "cell_type": "markdown",
   "metadata": {},
   "source": [
    "#### Bivariate Analysis - Horizontal Bar Plots"
   ]
  },
  {
   "cell_type": "code",
   "execution_count": 57,
   "metadata": {},
   "outputs": [
    {
     "data": {
      "image/png": "[encoded data removed]",
      "text/plain": [
       "<Figure size 432x288 with 1 Axes>"
      ]
     },
     "metadata": {
      "needs_background": "light"
     },
     "output_type": "display_data"
    },
    {
     "data": {
      "image/png": "[encoded data removed]",
      "text/plain": [
       "<Figure size 432x288 with 1 Axes>"
      ]
     },
     "metadata": {
      "needs_background": "light"
     },
     "output_type": "display_data"
    },
    {
     "data": {
      "image/png": "[encoded data removed]",
      "text/plain": [
       "<Figure size 432x288 with 1 Axes>"
      ]
     },
     "metadata": {
      "needs_background": "light"
     },
     "output_type": "display_data"
    }
   ],
   "source": [
    "def distribution_plots(df,columns):\n",
    "    # This small function basically creates the distribution plot of all numerical variables.\n",
    "    # columns should be a list of numerical variables.\n",
    "    for ind,col in enumerate(columns):\n",
    "        plt.figure(ind);\n",
    "        df.groupby('Is_Lead')[col].mean().plot.barh();\n",
    "        plt.title(\"BarPlot of Median {} with respect to Target column\".format(col));\n",
    "        plt.xlabel(col);\n",
    "distribution_plots(train,['Age','Vintage','Avg_Account_Balance'])"
   ]
  },
  {
   "cell_type": "markdown",
   "metadata": {},
   "source": [
    "**Observations**\n",
    "1. We can see that the Mean Age of customers who have subscribed to the offer is higher.\n",
    "2. We can see that the Mean Vintage of customers who have subscribed to the offer is higher.\n",
    "3. We can see that the Mean Avg_Account_Balance of customers who have subscribed to the offer is higher (although not substantially higher)."
   ]
  },
  {
   "cell_type": "markdown",
   "metadata": {},
   "source": [
    "#### Correlations"
   ]
  },
  {
   "cell_type": "code",
   "execution_count": 58,
   "metadata": {},
   "outputs": [
    {
     "data": {
      "image/png": "[encoded data removed]",
      "text/plain": [
       "<Figure size 720x576 with 2 Axes>"
      ]
     },
     "metadata": {
      "needs_background": "light"
     },
     "output_type": "display_data"
    }
   ],
   "source": [
    "plt.figure(figsize=(10, 8));\n",
    "plt.title(\"Correlation between Numerical Variables\");\n",
    "_ = sns.heatmap(train[num_cols].corr(), annot=True)"
   ]
  },
  {
   "cell_type": "markdown",
   "metadata": {},
   "source": [
    "**Observations**\n",
    "1. We can see that none of the variables are highly correlated to the dependent variable.\n",
    "2. We can see that Vintage is related to Age variable although the correlation is not that high. "
   ]
  },
  {
   "cell_type": "code",
   "execution_count": 59,
   "metadata": {},
   "outputs": [
    {
     "data": {
      "text/plain": [
       "ID                          0\n",
       "Gender                      0\n",
       "Age                         0\n",
       "Region_Code                 0\n",
       "Occupation                  0\n",
       "Channel_Code                0\n",
       "Vintage                     0\n",
       "Credit_Product          41847\n",
       "Avg_Account_Balance         0\n",
       "Is_Active                   0\n",
       "Is_Lead                105312\n",
       "dtype: int64"
      ]
     },
     "execution_count": 59,
     "metadata": {},
     "output_type": "execute_result"
    }
   ],
   "source": [
    "df.isna().sum()"
   ]
  },
  {
   "cell_type": "code",
   "execution_count": 60,
   "metadata": {},
   "outputs": [],
   "source": [
    "# letting the model figure out the way to fill the missing values. \n",
    "# df['Credit_Product'].fillna(\"Missing\",inplace=True)"
   ]
  },
  {
   "cell_type": "markdown",
   "metadata": {},
   "source": [
    "#### Feature Generation"
   ]
  },
  {
   "cell_type": "code",
   "execution_count": 61,
   "metadata": {},
   "outputs": [],
   "source": [
    "# creating frequency encoded feature\n",
    "df['Region_Code'] = df['Region_Code'].map(df['Region_Code'].value_counts())\n",
    "\n",
    "\n",
    "# creating groupby features\n",
    "df['Mean_Avg_Account_Balance_Per_Occupation'] = df.groupby(\"Occupation\")['Avg_Account_Balance'].transform('mean')\n",
    "df['Median_Avg_Account_Balance_Per_Occupation'] = df.groupby(\"Occupation\")['Avg_Account_Balance'].transform('median')\n",
    "df['Min_Avg_Account_Balance_Per_Occupation'] = df.groupby(\"Occupation\")['Avg_Account_Balance'].transform('min')\n",
    "df['Max_Avg_Account_Balance_Per_Occupation'] = df.groupby(\"Occupation\")['Avg_Account_Balance'].transform('max')\n",
    "\n",
    "df['Mean_Avg_Account_Balance_Per_Channel_Code'] = df.groupby(\"Channel_Code\")['Avg_Account_Balance'].transform('mean')\n",
    "df['Median_Avg_Account_Balance_Per_Channel_Code'] = df.groupby(\"Channel_Code\")['Avg_Account_Balance'].transform('median')\n",
    "df['Min_Avg_Account_Balance_Per_Channel_Code'] = df.groupby(\"Channel_Code\")['Avg_Account_Balance'].transform('min')\n",
    "df['Max_Avg_Account_Balance_Per_Channel_Code'] = df.groupby(\"Channel_Code\")['Avg_Account_Balance'].transform('max')\n",
    "\n",
    "df['Mean_Avg_Account_Balance_Per_Credit_Product'] = df.groupby(\"Credit_Product\")['Avg_Account_Balance'].transform('mean')\n",
    "df['Median_Avg_Account_Balance_Per_Credit_Product'] = df.groupby(\"Credit_Product\")['Avg_Account_Balance'].transform('median')\n",
    "df['Min_Avg_Account_Balance_Per_Credit_Product'] = df.groupby(\"Credit_Product\")['Avg_Account_Balance'].transform('min')\n",
    "df['Max_Avg_Account_Balance_Per_Credit_Product'] = df.groupby(\"Credit_Product\")['Avg_Account_Balance'].transform('max')\n",
    "\n",
    "# Label Encoding\n",
    "cat_cols = [col for col in df.columns if ((df[col].dtype==\"object\")&(col!=\"ID\"))]\n",
    "df[cat_cols] = df[cat_cols].apply(lambda x: pd.factorize(x)[0])"
   ]
  },
  {
   "cell_type": "markdown",
   "metadata": {},
   "source": [
    "#### Splitting data into train and test"
   ]
  },
  {
   "cell_type": "code",
   "execution_count": 62,
   "metadata": {},
   "outputs": [
    {
     "name": "stdout",
     "output_type": "stream",
     "text": [
      "(245725, 22)\n",
      "(105312, 21)\n"
     ]
    }
   ],
   "source": [
    "# splitting back to train and test\n",
    "train_rf, test_rf = df[:train.shape[0]], df[train.shape[0]:].reset_index(drop = True)\n",
    "features = [c for c in train_rf.columns if c not in [\"ID\", \"Is_Lead\"]]\n",
    "\n",
    "# defining ID and target columns\n",
    "ID_COL = \"ID\"\n",
    "TARGET_COL = \"Is_Lead\"\n",
    "\n",
    "# dropping unnecessary columns\n",
    "test_rf.drop(['Is_Lead','ID'],axis=1,inplace=True)\n",
    "train_rf.drop(\"ID\",axis=1,inplace=True)\n",
    "\n",
    "# checking the shape of the dataset\n",
    "print (train_rf.shape)\n",
    "print (test_rf.shape)"
   ]
  },
  {
   "cell_type": "code",
   "execution_count": 63,
   "metadata": {},
   "outputs": [
    {
     "data": {
      "text/html": [
       "<div>\n",
       "<style scoped>\n",
       "    .dataframe tbody tr th:only-of-type {\n",
       "        vertical-align: middle;\n",
       "    }\n",
       "\n",
       "    .dataframe tbody tr th {\n",
       "        vertical-align: top;\n",
       "    }\n",
       "\n",
       "    .dataframe thead th {\n",
       "        text-align: right;\n",
       "    }\n",
       "</style>\n",
       "<table border=\"1\" class=\"dataframe\">\n",
       "  <thead>\n",
       "    <tr style=\"text-align: right;\">\n",
       "      <th></th>\n",
       "      <th>Gender</th>\n",
       "      <th>Age</th>\n",
       "      <th>Region_Code</th>\n",
       "      <th>Occupation</th>\n",
       "      <th>Channel_Code</th>\n",
       "      <th>Vintage</th>\n",
       "      <th>Credit_Product</th>\n",
       "      <th>Avg_Account_Balance</th>\n",
       "      <th>Is_Active</th>\n",
       "      <th>Is_Lead</th>\n",
       "      <th>Mean_Avg_Account_Balance_Per_Occupation</th>\n",
       "      <th>Median_Avg_Account_Balance_Per_Occupation</th>\n",
       "      <th>Min_Avg_Account_Balance_Per_Occupation</th>\n",
       "      <th>Max_Avg_Account_Balance_Per_Occupation</th>\n",
       "      <th>Mean_Avg_Account_Balance_Per_Channel_Code</th>\n",
       "      <th>Median_Avg_Account_Balance_Per_Channel_Code</th>\n",
       "      <th>Min_Avg_Account_Balance_Per_Channel_Code</th>\n",
       "      <th>Max_Avg_Account_Balance_Per_Channel_Code</th>\n",
       "      <th>Mean_Avg_Account_Balance_Per_Credit_Product</th>\n",
       "      <th>Median_Avg_Account_Balance_Per_Credit_Product</th>\n",
       "      <th>Min_Avg_Account_Balance_Per_Credit_Product</th>\n",
       "      <th>Max_Avg_Account_Balance_Per_Credit_Product</th>\n",
       "    </tr>\n",
       "  </thead>\n",
       "  <tbody>\n",
       "    <tr>\n",
       "      <th>0</th>\n",
       "      <td>0</td>\n",
       "      <td>73</td>\n",
       "      <td>51059</td>\n",
       "      <td>0</td>\n",
       "      <td>0</td>\n",
       "      <td>43</td>\n",
       "      <td>0</td>\n",
       "      <td>1045696</td>\n",
       "      <td>0</td>\n",
       "      <td>0.00000</td>\n",
       "      <td>1211035.40307</td>\n",
       "      <td>959811.00000</td>\n",
       "      <td>20790</td>\n",
       "      <td>10352009</td>\n",
       "      <td>1277796.86648</td>\n",
       "      <td>1034313.00000</td>\n",
       "      <td>44856</td>\n",
       "      <td>10352009</td>\n",
       "      <td>1081144.96555</td>\n",
       "      <td>845517.00000</td>\n",
       "      <td>20790.00000</td>\n",
       "      <td>9908858.00000</td>\n",
       "    </tr>\n",
       "    <tr>\n",
       "      <th>1</th>\n",
       "      <td>0</td>\n",
       "      <td>30</td>\n",
       "      <td>18422</td>\n",
       "      <td>1</td>\n",
       "      <td>1</td>\n",
       "      <td>32</td>\n",
       "      <td>0</td>\n",
       "      <td>581988</td>\n",
       "      <td>0</td>\n",
       "      <td>0.00000</td>\n",
       "      <td>1036457.10687</td>\n",
       "      <td>812636.50000</td>\n",
       "      <td>45950</td>\n",
       "      <td>9701151</td>\n",
       "      <td>1033424.82917</td>\n",
       "      <td>808280.00000</td>\n",
       "      <td>22597</td>\n",
       "      <td>10007678</td>\n",
       "      <td>1081144.96555</td>\n",
       "      <td>845517.00000</td>\n",
       "      <td>20790.00000</td>\n",
       "      <td>9908858.00000</td>\n",
       "    </tr>\n",
       "    <tr>\n",
       "      <th>2</th>\n",
       "      <td>0</td>\n",
       "      <td>56</td>\n",
       "      <td>51059</td>\n",
       "      <td>2</td>\n",
       "      <td>0</td>\n",
       "      <td>26</td>\n",
       "      <td>0</td>\n",
       "      <td>1484315</td>\n",
       "      <td>1</td>\n",
       "      <td>0.00000</td>\n",
       "      <td>1133054.65998</td>\n",
       "      <td>909352.50000</td>\n",
       "      <td>22597</td>\n",
       "      <td>8762071</td>\n",
       "      <td>1277796.86648</td>\n",
       "      <td>1034313.00000</td>\n",
       "      <td>44856</td>\n",
       "      <td>10352009</td>\n",
       "      <td>1081144.96555</td>\n",
       "      <td>845517.00000</td>\n",
       "      <td>20790.00000</td>\n",
       "      <td>9908858.00000</td>\n",
       "    </tr>\n",
       "    <tr>\n",
       "      <th>3</th>\n",
       "      <td>1</td>\n",
       "      <td>34</td>\n",
       "      <td>11160</td>\n",
       "      <td>1</td>\n",
       "      <td>1</td>\n",
       "      <td>19</td>\n",
       "      <td>0</td>\n",
       "      <td>470454</td>\n",
       "      <td>0</td>\n",
       "      <td>0.00000</td>\n",
       "      <td>1036457.10687</td>\n",
       "      <td>812636.50000</td>\n",
       "      <td>45950</td>\n",
       "      <td>9701151</td>\n",
       "      <td>1033424.82917</td>\n",
       "      <td>808280.00000</td>\n",
       "      <td>22597</td>\n",
       "      <td>10007678</td>\n",
       "      <td>1081144.96555</td>\n",
       "      <td>845517.00000</td>\n",
       "      <td>20790.00000</td>\n",
       "      <td>9908858.00000</td>\n",
       "    </tr>\n",
       "    <tr>\n",
       "      <th>4</th>\n",
       "      <td>0</td>\n",
       "      <td>30</td>\n",
       "      <td>8166</td>\n",
       "      <td>1</td>\n",
       "      <td>1</td>\n",
       "      <td>33</td>\n",
       "      <td>0</td>\n",
       "      <td>886787</td>\n",
       "      <td>0</td>\n",
       "      <td>0.00000</td>\n",
       "      <td>1036457.10687</td>\n",
       "      <td>812636.50000</td>\n",
       "      <td>45950</td>\n",
       "      <td>9701151</td>\n",
       "      <td>1033424.82917</td>\n",
       "      <td>808280.00000</td>\n",
       "      <td>22597</td>\n",
       "      <td>10007678</td>\n",
       "      <td>1081144.96555</td>\n",
       "      <td>845517.00000</td>\n",
       "      <td>20790.00000</td>\n",
       "      <td>9908858.00000</td>\n",
       "    </tr>\n",
       "  </tbody>\n",
       "</table>\n",
       "</div>"
      ],
      "text/plain": [
       "   Gender  Age  Region_Code  Occupation  Channel_Code  Vintage  \\\n",
       "0       0   73        51059           0             0       43   \n",
       "1       0   30        18422           1             1       32   \n",
       "2       0   56        51059           2             0       26   \n",
       "3       1   34        11160           1             1       19   \n",
       "4       0   30         8166           1             1       33   \n",
       "\n",
       "   Credit_Product  Avg_Account_Balance  Is_Active  Is_Lead  \\\n",
       "0               0              1045696          0  0.00000   \n",
       "1               0               581988          0  0.00000   \n",
       "2               0              1484315          1  0.00000   \n",
       "3               0               470454          0  0.00000   \n",
       "4               0               886787          0  0.00000   \n",
       "\n",
       "   Mean_Avg_Account_Balance_Per_Occupation  \\\n",
       "0                            1211035.40307   \n",
       "1                            1036457.10687   \n",
       "2                            1133054.65998   \n",
       "3                            1036457.10687   \n",
       "4                            1036457.10687   \n",
       "\n",
       "   Median_Avg_Account_Balance_Per_Occupation  \\\n",
       "0                               959811.00000   \n",
       "1                               812636.50000   \n",
       "2                               909352.50000   \n",
       "3                               812636.50000   \n",
       "4                               812636.50000   \n",
       "\n",
       "   Min_Avg_Account_Balance_Per_Occupation  \\\n",
       "0                                   20790   \n",
       "1                                   45950   \n",
       "2                                   22597   \n",
       "3                                   45950   \n",
       "4                                   45950   \n",
       "\n",
       "   Max_Avg_Account_Balance_Per_Occupation  \\\n",
       "0                                10352009   \n",
       "1                                 9701151   \n",
       "2                                 8762071   \n",
       "3                                 9701151   \n",
       "4                                 9701151   \n",
       "\n",
       "   Mean_Avg_Account_Balance_Per_Channel_Code  \\\n",
       "0                              1277796.86648   \n",
       "1                              1033424.82917   \n",
       "2                              1277796.86648   \n",
       "3                              1033424.82917   \n",
       "4                              1033424.82917   \n",
       "\n",
       "   Median_Avg_Account_Balance_Per_Channel_Code  \\\n",
       "0                                1034313.00000   \n",
       "1                                 808280.00000   \n",
       "2                                1034313.00000   \n",
       "3                                 808280.00000   \n",
       "4                                 808280.00000   \n",
       "\n",
       "   Min_Avg_Account_Balance_Per_Channel_Code  \\\n",
       "0                                     44856   \n",
       "1                                     22597   \n",
       "2                                     44856   \n",
       "3                                     22597   \n",
       "4                                     22597   \n",
       "\n",
       "   Max_Avg_Account_Balance_Per_Channel_Code  \\\n",
       "0                                  10352009   \n",
       "1                                  10007678   \n",
       "2                                  10352009   \n",
       "3                                  10007678   \n",
       "4                                  10007678   \n",
       "\n",
       "   Mean_Avg_Account_Balance_Per_Credit_Product  \\\n",
       "0                                1081144.96555   \n",
       "1                                1081144.96555   \n",
       "2                                1081144.96555   \n",
       "3                                1081144.96555   \n",
       "4                                1081144.96555   \n",
       "\n",
       "   Median_Avg_Account_Balance_Per_Credit_Product  \\\n",
       "0                                   845517.00000   \n",
       "1                                   845517.00000   \n",
       "2                                   845517.00000   \n",
       "3                                   845517.00000   \n",
       "4                                   845517.00000   \n",
       "\n",
       "   Min_Avg_Account_Balance_Per_Credit_Product  \\\n",
       "0                                 20790.00000   \n",
       "1                                 20790.00000   \n",
       "2                                 20790.00000   \n",
       "3                                 20790.00000   \n",
       "4                                 20790.00000   \n",
       "\n",
       "   Max_Avg_Account_Balance_Per_Credit_Product  \n",
       "0                               9908858.00000  \n",
       "1                               9908858.00000  \n",
       "2                               9908858.00000  \n",
       "3                               9908858.00000  \n",
       "4                               9908858.00000  "
      ]
     },
     "execution_count": 63,
     "metadata": {},
     "output_type": "execute_result"
    }
   ],
   "source": [
    "train_rf.head()"
   ]
  },
  {
   "cell_type": "code",
   "execution_count": 64,
   "metadata": {},
   "outputs": [
    {
     "data": {
      "text/html": [
       "<div>\n",
       "<style scoped>\n",
       "    .dataframe tbody tr th:only-of-type {\n",
       "        vertical-align: middle;\n",
       "    }\n",
       "\n",
       "    .dataframe tbody tr th {\n",
       "        vertical-align: top;\n",
       "    }\n",
       "\n",
       "    .dataframe thead th {\n",
       "        text-align: right;\n",
       "    }\n",
       "</style>\n",
       "<table border=\"1\" class=\"dataframe\">\n",
       "  <thead>\n",
       "    <tr style=\"text-align: right;\">\n",
       "      <th></th>\n",
       "      <th>Gender</th>\n",
       "      <th>Age</th>\n",
       "      <th>Region_Code</th>\n",
       "      <th>Occupation</th>\n",
       "      <th>Channel_Code</th>\n",
       "      <th>Vintage</th>\n",
       "      <th>Credit_Product</th>\n",
       "      <th>Avg_Account_Balance</th>\n",
       "      <th>Is_Active</th>\n",
       "      <th>Mean_Avg_Account_Balance_Per_Occupation</th>\n",
       "      <th>Median_Avg_Account_Balance_Per_Occupation</th>\n",
       "      <th>Min_Avg_Account_Balance_Per_Occupation</th>\n",
       "      <th>Max_Avg_Account_Balance_Per_Occupation</th>\n",
       "      <th>Mean_Avg_Account_Balance_Per_Channel_Code</th>\n",
       "      <th>Median_Avg_Account_Balance_Per_Channel_Code</th>\n",
       "      <th>Min_Avg_Account_Balance_Per_Channel_Code</th>\n",
       "      <th>Max_Avg_Account_Balance_Per_Channel_Code</th>\n",
       "      <th>Mean_Avg_Account_Balance_Per_Credit_Product</th>\n",
       "      <th>Median_Avg_Account_Balance_Per_Credit_Product</th>\n",
       "      <th>Min_Avg_Account_Balance_Per_Credit_Product</th>\n",
       "      <th>Max_Avg_Account_Balance_Per_Credit_Product</th>\n",
       "    </tr>\n",
       "  </thead>\n",
       "  <tbody>\n",
       "    <tr>\n",
       "      <th>0</th>\n",
       "      <td>1</td>\n",
       "      <td>29</td>\n",
       "      <td>38577</td>\n",
       "      <td>0</td>\n",
       "      <td>1</td>\n",
       "      <td>25</td>\n",
       "      <td>1</td>\n",
       "      <td>742366</td>\n",
       "      <td>0</td>\n",
       "      <td>1211035.40307</td>\n",
       "      <td>959811.00000</td>\n",
       "      <td>20790</td>\n",
       "      <td>10352009</td>\n",
       "      <td>1033424.82917</td>\n",
       "      <td>808280.00000</td>\n",
       "      <td>22597</td>\n",
       "      <td>10007678</td>\n",
       "      <td>1188067.45141</td>\n",
       "      <td>955308.00000</td>\n",
       "      <td>45950.00000</td>\n",
       "      <td>10352009.00000</td>\n",
       "    </tr>\n",
       "    <tr>\n",
       "      <th>1</th>\n",
       "      <td>1</td>\n",
       "      <td>43</td>\n",
       "      <td>51059</td>\n",
       "      <td>0</td>\n",
       "      <td>2</td>\n",
       "      <td>49</td>\n",
       "      <td>-1</td>\n",
       "      <td>925537</td>\n",
       "      <td>0</td>\n",
       "      <td>1211035.40307</td>\n",
       "      <td>959811.00000</td>\n",
       "      <td>20790</td>\n",
       "      <td>10352009</td>\n",
       "      <td>1141920.31953</td>\n",
       "      <td>920335.50000</td>\n",
       "      <td>20790</td>\n",
       "      <td>9878021</td>\n",
       "      <td>nan</td>\n",
       "      <td>nan</td>\n",
       "      <td>nan</td>\n",
       "      <td>nan</td>\n",
       "    </tr>\n",
       "    <tr>\n",
       "      <th>2</th>\n",
       "      <td>1</td>\n",
       "      <td>31</td>\n",
       "      <td>11160</td>\n",
       "      <td>1</td>\n",
       "      <td>1</td>\n",
       "      <td>14</td>\n",
       "      <td>0</td>\n",
       "      <td>215949</td>\n",
       "      <td>0</td>\n",
       "      <td>1036457.10687</td>\n",
       "      <td>812636.50000</td>\n",
       "      <td>45950</td>\n",
       "      <td>9701151</td>\n",
       "      <td>1033424.82917</td>\n",
       "      <td>808280.00000</td>\n",
       "      <td>22597</td>\n",
       "      <td>10007678</td>\n",
       "      <td>1081144.96555</td>\n",
       "      <td>845517.00000</td>\n",
       "      <td>20790.00000</td>\n",
       "      <td>9908858.00000</td>\n",
       "    </tr>\n",
       "    <tr>\n",
       "      <th>3</th>\n",
       "      <td>1</td>\n",
       "      <td>29</td>\n",
       "      <td>7590</td>\n",
       "      <td>0</td>\n",
       "      <td>1</td>\n",
       "      <td>33</td>\n",
       "      <td>0</td>\n",
       "      <td>868070</td>\n",
       "      <td>0</td>\n",
       "      <td>1211035.40307</td>\n",
       "      <td>959811.00000</td>\n",
       "      <td>20790</td>\n",
       "      <td>10352009</td>\n",
       "      <td>1033424.82917</td>\n",
       "      <td>808280.00000</td>\n",
       "      <td>22597</td>\n",
       "      <td>10007678</td>\n",
       "      <td>1081144.96555</td>\n",
       "      <td>845517.00000</td>\n",
       "      <td>20790.00000</td>\n",
       "      <td>9908858.00000</td>\n",
       "    </tr>\n",
       "    <tr>\n",
       "      <th>4</th>\n",
       "      <td>0</td>\n",
       "      <td>29</td>\n",
       "      <td>11160</td>\n",
       "      <td>0</td>\n",
       "      <td>1</td>\n",
       "      <td>19</td>\n",
       "      <td>0</td>\n",
       "      <td>657087</td>\n",
       "      <td>0</td>\n",
       "      <td>1211035.40307</td>\n",
       "      <td>959811.00000</td>\n",
       "      <td>20790</td>\n",
       "      <td>10352009</td>\n",
       "      <td>1033424.82917</td>\n",
       "      <td>808280.00000</td>\n",
       "      <td>22597</td>\n",
       "      <td>10007678</td>\n",
       "      <td>1081144.96555</td>\n",
       "      <td>845517.00000</td>\n",
       "      <td>20790.00000</td>\n",
       "      <td>9908858.00000</td>\n",
       "    </tr>\n",
       "  </tbody>\n",
       "</table>\n",
       "</div>"
      ],
      "text/plain": [
       "   Gender  Age  Region_Code  Occupation  Channel_Code  Vintage  \\\n",
       "0       1   29        38577           0             1       25   \n",
       "1       1   43        51059           0             2       49   \n",
       "2       1   31        11160           1             1       14   \n",
       "3       1   29         7590           0             1       33   \n",
       "4       0   29        11160           0             1       19   \n",
       "\n",
       "   Credit_Product  Avg_Account_Balance  Is_Active  \\\n",
       "0               1               742366          0   \n",
       "1              -1               925537          0   \n",
       "2               0               215949          0   \n",
       "3               0               868070          0   \n",
       "4               0               657087          0   \n",
       "\n",
       "   Mean_Avg_Account_Balance_Per_Occupation  \\\n",
       "0                            1211035.40307   \n",
       "1                            1211035.40307   \n",
       "2                            1036457.10687   \n",
       "3                            1211035.40307   \n",
       "4                            1211035.40307   \n",
       "\n",
       "   Median_Avg_Account_Balance_Per_Occupation  \\\n",
       "0                               959811.00000   \n",
       "1                               959811.00000   \n",
       "2                               812636.50000   \n",
       "3                               959811.00000   \n",
       "4                               959811.00000   \n",
       "\n",
       "   Min_Avg_Account_Balance_Per_Occupation  \\\n",
       "0                                   20790   \n",
       "1                                   20790   \n",
       "2                                   45950   \n",
       "3                                   20790   \n",
       "4                                   20790   \n",
       "\n",
       "   Max_Avg_Account_Balance_Per_Occupation  \\\n",
       "0                                10352009   \n",
       "1                                10352009   \n",
       "2                                 9701151   \n",
       "3                                10352009   \n",
       "4                                10352009   \n",
       "\n",
       "   Mean_Avg_Account_Balance_Per_Channel_Code  \\\n",
       "0                              1033424.82917   \n",
       "1                              1141920.31953   \n",
       "2                              1033424.82917   \n",
       "3                              1033424.82917   \n",
       "4                              1033424.82917   \n",
       "\n",
       "   Median_Avg_Account_Balance_Per_Channel_Code  \\\n",
       "0                                 808280.00000   \n",
       "1                                 920335.50000   \n",
       "2                                 808280.00000   \n",
       "3                                 808280.00000   \n",
       "4                                 808280.00000   \n",
       "\n",
       "   Min_Avg_Account_Balance_Per_Channel_Code  \\\n",
       "0                                     22597   \n",
       "1                                     20790   \n",
       "2                                     22597   \n",
       "3                                     22597   \n",
       "4                                     22597   \n",
       "\n",
       "   Max_Avg_Account_Balance_Per_Channel_Code  \\\n",
       "0                                  10007678   \n",
       "1                                   9878021   \n",
       "2                                  10007678   \n",
       "3                                  10007678   \n",
       "4                                  10007678   \n",
       "\n",
       "   Mean_Avg_Account_Balance_Per_Credit_Product  \\\n",
       "0                                1188067.45141   \n",
       "1                                          nan   \n",
       "2                                1081144.96555   \n",
       "3                                1081144.96555   \n",
       "4                                1081144.96555   \n",
       "\n",
       "   Median_Avg_Account_Balance_Per_Credit_Product  \\\n",
       "0                                   955308.00000   \n",
       "1                                            nan   \n",
       "2                                   845517.00000   \n",
       "3                                   845517.00000   \n",
       "4                                   845517.00000   \n",
       "\n",
       "   Min_Avg_Account_Balance_Per_Credit_Product  \\\n",
       "0                                 45950.00000   \n",
       "1                                         nan   \n",
       "2                                 20790.00000   \n",
       "3                                 20790.00000   \n",
       "4                                 20790.00000   \n",
       "\n",
       "   Max_Avg_Account_Balance_Per_Credit_Product  \n",
       "0                              10352009.00000  \n",
       "1                                         nan  \n",
       "2                               9908858.00000  \n",
       "3                               9908858.00000  \n",
       "4                               9908858.00000  "
      ]
     },
     "execution_count": 64,
     "metadata": {},
     "output_type": "execute_result"
    }
   ],
   "source": [
    "test_rf.head()"
   ]
  },
  {
   "cell_type": "code",
   "execution_count": 65,
   "metadata": {},
   "outputs": [],
   "source": [
    "X = train_rf[features]\n",
    "y = train_rf['Is_Lead']"
   ]
  },
  {
   "cell_type": "markdown",
   "metadata": {},
   "source": [
    "#### Defining CV function"
   ]
  },
  {
   "cell_type": "code",
   "execution_count": 66,
   "metadata": {},
   "outputs": [],
   "source": [
    "def run_cross_validation(clf,fit_params,train,test,features):\n",
    "    \n",
    "    # defining the number of splits\n",
    "    NSPLITS = 5\n",
    "    \n",
    "    # generating dummy predictions for test data and out of fold data\n",
    "    predictions = np.zeros(test.shape[0])\n",
    "    oofs        = np.zeros(train.shape[0])\n",
    "    \n",
    "    # defining an empty list to collect the roc_auc score of each fold\n",
    "    roc_score   = []\n",
    "    \n",
    "    # defining te criteria of split\n",
    "    folds       = StratifiedKFold(n_splits=NSPLITS,random_state=42,shuffle=True)\n",
    "    \n",
    "    # Cross Validation\n",
    "    for fold_, (train_index,test_index) in enumerate(folds.split(train[features],train[TARGET_COL])):\n",
    "        print(f'\\n------------- Fold {fold_ + 1} -------------')\n",
    "        \n",
    "        # dividing the data into folds\n",
    "        x_train, x_val = train[features].iloc[train_index], train[features].iloc[test_index]\n",
    "        y_train, y_val = train[TARGET_COL].iloc[train_index], train[TARGET_COL].iloc[test_index]\n",
    "        \n",
    "        # fitting the model\n",
    "        _ = clf.fit(x_train, \n",
    "                    y_train, \n",
    "                    eval_set = [(x_val, y_val)], \n",
    "                    **fit_params, \n",
    "                    eval_metric=['auc'])\n",
    "        \n",
    "        \n",
    "        # predicting on validation data and appending the score to roc_score list\n",
    "        preds = clf.predict_proba(x_val)[:, 1]\n",
    "        score = roc_auc_score(y_val,preds)\n",
    "        print (\"Validation ROC AUC Score:\",score)\n",
    "        print (\"------------------------------------------------\")\n",
    "        roc_score.append(score)\n",
    "        \n",
    "        # oofs predictions\n",
    "        oofs[test_index] = preds\n",
    "    \n",
    "        # Predicting on the test set\n",
    "        predictions += clf.predict_proba(test)[:, 1] / folds.n_splits\n",
    "    \n",
    "    \n",
    "    # plotting Feature Importance\n",
    "    plt.figure(figsize=(6,8));\n",
    "    ser = pd.Series(clf.feature_importances_,test.columns).sort_values();\n",
    "    ser.plot(kind='barh');\n",
    "    plt.title(\"Feature Importance Plot\");\n",
    "    plt.xlabel(\"Feature\");\n",
    "    plt.ylabel(\"Importance\");\n",
    "    \n",
    "    # Mean roc_score of 5 folds. \n",
    "    print (\"------------------------------------------\")\n",
    "    print (\"Mean ROC AUC Score of 5 Folds:\",np.mean(np.array(roc_score)))\n",
    "    \n",
    "    return oofs, predictions "
   ]
  },
  {
   "cell_type": "markdown",
   "metadata": {},
   "source": [
    "#### LightGBM Model"
   ]
  },
  {
   "cell_type": "code",
   "execution_count": 67,
   "metadata": {},
   "outputs": [
    {
     "name": "stdout",
     "output_type": "stream",
     "text": [
      "\n",
      "------------- Fold 1 -------------\n"
     ]
    },
    {
     "name": "stderr",
     "output_type": "stream",
     "text": [
      "C:\\Users\\kulka\\anaconda3\\lib\\site-packages\\lightgbm\\basic.py:1295: UserWarning: categorical_feature in Dataset is overridden.\n",
      "New categorical_feature is ['Channel_Code', 'Credit_Product', 'Gender', 'Is_Active', 'Occupation']\n",
      "  'New categorical_feature is {}'.format(sorted(list(categorical_feature))))\n"
     ]
    },
    {
     "name": "stdout",
     "output_type": "stream",
     "text": [
      "Training until validation scores don't improve for 50 rounds\n",
      "Early stopping, best iteration is:\n",
      "[31]\tvalid_0's auc: 0.874901\tvalid_0's binary_logloss: 0.410076\n",
      "Validation ROC AUC Score: 0.8749007980858182\n",
      "------------------------------------------------\n",
      "\n",
      "------------- Fold 2 -------------\n"
     ]
    },
    {
     "name": "stderr",
     "output_type": "stream",
     "text": [
      "C:\\Users\\kulka\\anaconda3\\lib\\site-packages\\lightgbm\\basic.py:1295: UserWarning: categorical_feature in Dataset is overridden.\n",
      "New categorical_feature is ['Channel_Code', 'Credit_Product', 'Gender', 'Is_Active', 'Occupation']\n",
      "  'New categorical_feature is {}'.format(sorted(list(categorical_feature))))\n"
     ]
    },
    {
     "name": "stdout",
     "output_type": "stream",
     "text": [
      "Training until validation scores don't improve for 50 rounds\n",
      "Early stopping, best iteration is:\n",
      "[31]\tvalid_0's auc: 0.870986\tvalid_0's binary_logloss: 0.411272\n",
      "Validation ROC AUC Score: 0.8709859025867088\n",
      "------------------------------------------------\n",
      "\n",
      "------------- Fold 3 -------------\n"
     ]
    },
    {
     "name": "stderr",
     "output_type": "stream",
     "text": [
      "C:\\Users\\kulka\\anaconda3\\lib\\site-packages\\lightgbm\\basic.py:1295: UserWarning: categorical_feature in Dataset is overridden.\n",
      "New categorical_feature is ['Channel_Code', 'Credit_Product', 'Gender', 'Is_Active', 'Occupation']\n",
      "  'New categorical_feature is {}'.format(sorted(list(categorical_feature))))\n"
     ]
    },
    {
     "name": "stdout",
     "output_type": "stream",
     "text": [
      "Training until validation scores don't improve for 50 rounds\n",
      "Early stopping, best iteration is:\n",
      "[31]\tvalid_0's auc: 0.872025\tvalid_0's binary_logloss: 0.409428\n",
      "Validation ROC AUC Score: 0.8720248135153829\n",
      "------------------------------------------------\n",
      "\n",
      "------------- Fold 4 -------------\n"
     ]
    },
    {
     "name": "stderr",
     "output_type": "stream",
     "text": [
      "C:\\Users\\kulka\\anaconda3\\lib\\site-packages\\lightgbm\\basic.py:1295: UserWarning: categorical_feature in Dataset is overridden.\n",
      "New categorical_feature is ['Channel_Code', 'Credit_Product', 'Gender', 'Is_Active', 'Occupation']\n",
      "  'New categorical_feature is {}'.format(sorted(list(categorical_feature))))\n"
     ]
    },
    {
     "name": "stdout",
     "output_type": "stream",
     "text": [
      "Training until validation scores don't improve for 50 rounds\n",
      "Early stopping, best iteration is:\n",
      "[31]\tvalid_0's auc: 0.873392\tvalid_0's binary_logloss: 0.40963\n",
      "Validation ROC AUC Score: 0.8733922309971442\n",
      "------------------------------------------------\n",
      "\n",
      "------------- Fold 5 -------------\n"
     ]
    },
    {
     "name": "stderr",
     "output_type": "stream",
     "text": [
      "C:\\Users\\kulka\\anaconda3\\lib\\site-packages\\lightgbm\\basic.py:1295: UserWarning: categorical_feature in Dataset is overridden.\n",
      "New categorical_feature is ['Channel_Code', 'Credit_Product', 'Gender', 'Is_Active', 'Occupation']\n",
      "  'New categorical_feature is {}'.format(sorted(list(categorical_feature))))\n"
     ]
    },
    {
     "name": "stdout",
     "output_type": "stream",
     "text": [
      "Training until validation scores don't improve for 50 rounds\n",
      "Early stopping, best iteration is:\n",
      "[31]\tvalid_0's auc: 0.873139\tvalid_0's binary_logloss: 0.40929\n",
      "Validation ROC AUC Score: 0.8731392754612071\n",
      "------------------------------------------------\n",
      "------------------------------------------\n",
      "Mean ROC AUC Score of 5 Folds: 0.8728886041292523\n"
     ]
    },
    {
     "data": {
      "image/png": "[encoded data removed]",
      "text/plain": [
       "<Figure size 432x576 with 1 Axes>"
      ]
     },
     "metadata": {
      "needs_background": "light"
     },
     "output_type": "display_data"
    }
   ],
   "source": [
    "# defining the parameters of the model\n",
    "clf = lgb.LGBMClassifier(objective='binary',\n",
    "                         n_jobs=-1,\n",
    "                         boosting_type=\"gbdt\",\n",
    "                         learning_rate=0.05,\n",
    "                         n_estimators=2000,\n",
    "                         colsample_bytree=0.75,\n",
    "                         subsample=0.9,\n",
    "                         is_unbalance=\"True\")\n",
    "\n",
    "# defining other parameters\n",
    "fit_params = {'verbose': 100, 'early_stopping_rounds': 50, 'categorical_feature':cat_cols}\n",
    "\n",
    "# running the CV framework\n",
    "lgb_oofs, lgb_preds = run_cross_validation(clf, fit_params, train_rf,test_rf,features)"
   ]
  },
  {
   "cell_type": "code",
   "execution_count": 68,
   "metadata": {},
   "outputs": [
    {
     "data": {
      "text/plain": [
       "Text(0.5, 0, 'False positive rate')"
      ]
     },
     "execution_count": 68,
     "metadata": {},
     "output_type": "execute_result"
    },
    {
     "data": {
      "image/png": "[encoded data removed]",
      "text/plain": [
       "<Figure size 432x288 with 1 Axes>"
      ]
     },
     "metadata": {
      "needs_background": "light"
     },
     "output_type": "display_data"
    }
   ],
   "source": [
    "# plotting the ROC curve for LightGBM model\n",
    "frp,trp, threshold = roc_curve(y,lgb_oofs)\n",
    "roc_auc_ = auc(frp,trp)\n",
    "plt.title('Reciever Operating Characteristics Curve LightGBM')\n",
    "plt.plot(frp,trp,'r',label = 'AUC = %0.3f' % roc_auc_)\n",
    "plt.legend(loc='lower right')\n",
    "plt.plot([0,1],[0,1],'b--')\n",
    "plt.ylabel('True positive rate')\n",
    "plt.xlabel('False positive rate')"
   ]
  },
  {
   "cell_type": "markdown",
   "metadata": {},
   "source": [
    "#### XGBoost Model"
   ]
  },
  {
   "cell_type": "code",
   "execution_count": 69,
   "metadata": {},
   "outputs": [
    {
     "name": "stdout",
     "output_type": "stream",
     "text": [
      "\n",
      "------------- Fold 1 -------------\n",
      "[0]\tvalidation_0-auc:0.85514\n",
      "Will train until validation_0-auc hasn't improved in 50 rounds.\n",
      "[100]\tvalidation_0-auc:0.87556\n",
      "Stopping. Best iteration:\n",
      "[138]\tvalidation_0-auc:0.87567\n",
      "\n",
      "Validation ROC AUC Score: 0.8756648709040098\n",
      "------------------------------------------------\n",
      "\n",
      "------------- Fold 2 -------------\n",
      "[0]\tvalidation_0-auc:0.85137\n",
      "Will train until validation_0-auc hasn't improved in 50 rounds.\n",
      "[100]\tvalidation_0-auc:0.87232\n",
      "[200]\tvalidation_0-auc:0.87250\n",
      "Stopping. Best iteration:\n",
      "[209]\tvalidation_0-auc:0.87253\n",
      "\n",
      "Validation ROC AUC Score: 0.8725309716563763\n",
      "------------------------------------------------\n",
      "\n",
      "------------- Fold 3 -------------\n",
      "[0]\tvalidation_0-auc:0.85325\n",
      "Will train until validation_0-auc hasn't improved in 50 rounds.\n",
      "[100]\tvalidation_0-auc:0.87313\n",
      "[200]\tvalidation_0-auc:0.87352\n",
      "Stopping. Best iteration:\n",
      "[152]\tvalidation_0-auc:0.87365\n",
      "\n",
      "Validation ROC AUC Score: 0.8736542730020942\n",
      "------------------------------------------------\n",
      "\n",
      "------------- Fold 4 -------------\n",
      "[0]\tvalidation_0-auc:0.85394\n",
      "Will train until validation_0-auc hasn't improved in 50 rounds.\n",
      "[100]\tvalidation_0-auc:0.87462\n",
      "Stopping. Best iteration:\n",
      "[147]\tvalidation_0-auc:0.87493\n",
      "\n",
      "Validation ROC AUC Score: 0.8749263546377326\n",
      "------------------------------------------------\n",
      "\n",
      "------------- Fold 5 -------------\n",
      "[0]\tvalidation_0-auc:0.85201\n",
      "Will train until validation_0-auc hasn't improved in 50 rounds.\n",
      "[100]\tvalidation_0-auc:0.87453\n",
      "[200]\tvalidation_0-auc:0.87490\n",
      "Stopping. Best iteration:\n",
      "[208]\tvalidation_0-auc:0.87497\n",
      "\n",
      "Validation ROC AUC Score: 0.8749706577527651\n",
      "------------------------------------------------\n",
      "------------------------------------------\n",
      "Mean ROC AUC Score of 5 Folds: 0.8743494255905956\n"
     ]
    },
    {
     "data": {
      "image/png": "[encoded data removed]",
      "text/plain": [
       "<Figure size 432x576 with 1 Axes>"
      ]
     },
     "metadata": {
      "needs_background": "light"
     },
     "output_type": "display_data"
    }
   ],
   "source": [
    "# defining the parameters of the model\n",
    "clf = xgb.XGBClassifier(objective='binary:logistic',\n",
    "                        n_jobs=-1,\n",
    "                        boosting_type=\"gbdt\",\n",
    "                        learning_rate=0.05,\n",
    "                        n_estimators=2000,\n",
    "                        colsample_bytree=0.75,\n",
    "                        subsample=0.9,\n",
    "                        random_state=42,\n",
    "                        class_weight='balanced')\n",
    "\n",
    "# defining other parameters\n",
    "fit_params = {'verbose': 100, 'early_stopping_rounds': 50}\n",
    "\n",
    "# running the CV framework\n",
    "xgb_oofs, xgb_preds = run_cross_validation(clf, fit_params, train_rf,test_rf,features)"
   ]
  },
  {
   "cell_type": "code",
   "execution_count": 70,
   "metadata": {},
   "outputs": [
    {
     "data": {
      "text/plain": [
       "Text(0.5, 0, 'False positive rate')"
      ]
     },
     "execution_count": 70,
     "metadata": {},
     "output_type": "execute_result"
    },
    {
     "data": {
      "image/png": "[encoded data removed]",
      "text/plain": [
       "<Figure size 432x288 with 1 Axes>"
      ]
     },
     "metadata": {
      "needs_background": "light"
     },
     "output_type": "display_data"
    }
   ],
   "source": [
    "# plotting the ROC curve for XGBoost model\n",
    "frp,trp, threshold = roc_curve(y,xgb_oofs)\n",
    "roc_auc_ = auc(frp,trp)\n",
    "plt.title('Reciever Operating Characteristics Curve XGBoost')\n",
    "plt.plot(frp,trp,'r',label = 'AUC = %0.3f' % roc_auc_)\n",
    "plt.legend(loc='lower right')\n",
    "plt.plot([0,1],[0,1],'b--')\n",
    "plt.ylabel('True positive rate')\n",
    "plt.xlabel('False positive rate')"
   ]
  },
  {
   "cell_type": "markdown",
   "metadata": {},
   "source": [
    "#### Ensembling"
   ]
  },
  {
   "cell_type": "code",
   "execution_count": 71,
   "metadata": {},
   "outputs": [],
   "source": [
    "# defining new dataframes with target columns\n",
    "train_ensemble = train[[TARGET_COL]]\n",
    "test_ensemble  = test[[]]\n",
    "\n",
    "train_ensemble['lgb_predictions'] = lgb_oofs\n",
    "test_ensemble['lgb_predictions']  = lgb_preds\n",
    "\n",
    "train_ensemble['xgb_predictions'] = xgb_oofs\n",
    "test_ensemble['xgb_predictions']  = xgb_preds\n",
    "\n",
    "new_features = [c for c in train_ensemble.columns if c not in [ID_COL, TARGET_COL]]"
   ]
  },
  {
   "cell_type": "code",
   "execution_count": 72,
   "metadata": {},
   "outputs": [
    {
     "data": {
      "text/html": [
       "<div>\n",
       "<style scoped>\n",
       "    .dataframe tbody tr th:only-of-type {\n",
       "        vertical-align: middle;\n",
       "    }\n",
       "\n",
       "    .dataframe tbody tr th {\n",
       "        vertical-align: top;\n",
       "    }\n",
       "\n",
       "    .dataframe thead th {\n",
       "        text-align: right;\n",
       "    }\n",
       "</style>\n",
       "<table border=\"1\" class=\"dataframe\">\n",
       "  <thead>\n",
       "    <tr style=\"text-align: right;\">\n",
       "      <th></th>\n",
       "      <th>Is_Lead</th>\n",
       "      <th>lgb_predictions</th>\n",
       "      <th>xgb_predictions</th>\n",
       "    </tr>\n",
       "  </thead>\n",
       "  <tbody>\n",
       "    <tr>\n",
       "      <th>0</th>\n",
       "      <td>0</td>\n",
       "      <td>0.16793</td>\n",
       "      <td>0.03984</td>\n",
       "    </tr>\n",
       "    <tr>\n",
       "      <th>1</th>\n",
       "      <td>0</td>\n",
       "      <td>0.17023</td>\n",
       "      <td>0.05658</td>\n",
       "    </tr>\n",
       "    <tr>\n",
       "      <th>2</th>\n",
       "      <td>0</td>\n",
       "      <td>0.19917</td>\n",
       "      <td>0.06553</td>\n",
       "    </tr>\n",
       "    <tr>\n",
       "      <th>3</th>\n",
       "      <td>0</td>\n",
       "      <td>0.16785</td>\n",
       "      <td>0.05408</td>\n",
       "    </tr>\n",
       "    <tr>\n",
       "      <th>4</th>\n",
       "      <td>0</td>\n",
       "      <td>0.17016</td>\n",
       "      <td>0.05643</td>\n",
       "    </tr>\n",
       "  </tbody>\n",
       "</table>\n",
       "</div>"
      ],
      "text/plain": [
       "   Is_Lead  lgb_predictions  xgb_predictions\n",
       "0        0          0.16793          0.03984\n",
       "1        0          0.17023          0.05658\n",
       "2        0          0.19917          0.06553\n",
       "3        0          0.16785          0.05408\n",
       "4        0          0.17016          0.05643"
      ]
     },
     "execution_count": 72,
     "metadata": {},
     "output_type": "execute_result"
    }
   ],
   "source": [
    "train_ensemble.head()"
   ]
  },
  {
   "cell_type": "code",
   "execution_count": 73,
   "metadata": {},
   "outputs": [
    {
     "data": {
      "text/html": [
       "<div>\n",
       "<style scoped>\n",
       "    .dataframe tbody tr th:only-of-type {\n",
       "        vertical-align: middle;\n",
       "    }\n",
       "\n",
       "    .dataframe tbody tr th {\n",
       "        vertical-align: top;\n",
       "    }\n",
       "\n",
       "    .dataframe thead th {\n",
       "        text-align: right;\n",
       "    }\n",
       "</style>\n",
       "<table border=\"1\" class=\"dataframe\">\n",
       "  <thead>\n",
       "    <tr style=\"text-align: right;\">\n",
       "      <th></th>\n",
       "      <th>lgb_predictions</th>\n",
       "      <th>xgb_predictions</th>\n",
       "    </tr>\n",
       "  </thead>\n",
       "  <tbody>\n",
       "    <tr>\n",
       "      <th>0</th>\n",
       "      <td>0.15591</td>\n",
       "      <td>0.04592</td>\n",
       "    </tr>\n",
       "    <tr>\n",
       "      <th>1</th>\n",
       "      <td>0.80026</td>\n",
       "      <td>0.88839</td>\n",
       "    </tr>\n",
       "    <tr>\n",
       "      <th>2</th>\n",
       "      <td>0.16876</td>\n",
       "      <td>0.05877</td>\n",
       "    </tr>\n",
       "    <tr>\n",
       "      <th>3</th>\n",
       "      <td>0.10428</td>\n",
       "      <td>0.02373</td>\n",
       "    </tr>\n",
       "    <tr>\n",
       "      <th>4</th>\n",
       "      <td>0.10428</td>\n",
       "      <td>0.02211</td>\n",
       "    </tr>\n",
       "  </tbody>\n",
       "</table>\n",
       "</div>"
      ],
      "text/plain": [
       "   lgb_predictions  xgb_predictions\n",
       "0          0.15591          0.04592\n",
       "1          0.80026          0.88839\n",
       "2          0.16876          0.05877\n",
       "3          0.10428          0.02373\n",
       "4          0.10428          0.02211"
      ]
     },
     "execution_count": 73,
     "metadata": {},
     "output_type": "execute_result"
    }
   ],
   "source": [
    "test_ensemble.head()"
   ]
  },
  {
   "cell_type": "code",
   "execution_count": 74,
   "metadata": {},
   "outputs": [
    {
     "data": {
      "text/plain": [
       "['lgb_predictions', 'xgb_predictions']"
      ]
     },
     "execution_count": 74,
     "metadata": {},
     "output_type": "execute_result"
    }
   ],
   "source": [
    "new_features"
   ]
  },
  {
   "cell_type": "code",
   "execution_count": 75,
   "metadata": {},
   "outputs": [
    {
     "name": "stdout",
     "output_type": "stream",
     "text": [
      "\n",
      "------------- Fold 1 -------------\n",
      "Training until validation scores don't improve for 50 rounds\n",
      "Early stopping, best iteration is:\n",
      "[18]\tvalid_0's auc: 0.875935\tvalid_0's binary_logloss: 0.383258\n",
      "Validation ROC AUC Score: 0.8759351973215341\n",
      "------------------------------------------------\n",
      "\n",
      "------------- Fold 2 -------------\n",
      "Training until validation scores don't improve for 50 rounds\n",
      "Early stopping, best iteration is:\n",
      "[40]\tvalid_0's auc: 0.87246\tvalid_0's binary_logloss: 0.351159\n",
      "Validation ROC AUC Score: 0.8724595879717568\n",
      "------------------------------------------------\n",
      "\n",
      "------------- Fold 3 -------------\n",
      "Training until validation scores don't improve for 50 rounds\n",
      "Early stopping, best iteration is:\n",
      "[23]\tvalid_0's auc: 0.873508\tvalid_0's binary_logloss: 0.371549\n",
      "Validation ROC AUC Score: 0.8735083128697858\n",
      "------------------------------------------------\n",
      "\n",
      "------------- Fold 4 -------------\n",
      "Training until validation scores don't improve for 50 rounds\n",
      "[100]\tvalid_0's auc: 0.874747\tvalid_0's binary_logloss: 0.344063\n",
      "Early stopping, best iteration is:\n",
      "[127]\tvalid_0's auc: 0.874978\tvalid_0's binary_logloss: 0.343983\n",
      "Validation ROC AUC Score: 0.874978244302252\n",
      "------------------------------------------------\n",
      "\n",
      "------------- Fold 5 -------------\n",
      "Training until validation scores don't improve for 50 rounds\n",
      "Early stopping, best iteration is:\n",
      "[37]\tvalid_0's auc: 0.875362\tvalid_0's binary_logloss: 0.351434\n",
      "Validation ROC AUC Score: 0.8753623609933274\n",
      "------------------------------------------------\n",
      "------------------------------------------\n",
      "Mean ROC AUC Score of 5 Folds: 0.8744487406917314\n"
     ]
    },
    {
     "data": {
      "image/png": "[encoded data removed]",
      "text/plain": [
       "<Figure size 432x576 with 1 Axes>"
      ]
     },
     "metadata": {
      "needs_background": "light"
     },
     "output_type": "display_data"
    }
   ],
   "source": [
    "# Running the ensemble model of LightGBM and XGBoost\n",
    "clf = lgb.LGBMClassifier(objective='binary',\n",
    "                         n_jobs=-1,\n",
    "                         boosting_type=\"gbdt\",\n",
    "                         learning_rate=0.05,\n",
    "                         n_estimators=2000,\n",
    "                         colsample_bytree=0.75,\n",
    "                         subsample=0.9,\n",
    "                         random_state=42)\n",
    "\n",
    "fit_params = {'verbose': 100, 'early_stopping_rounds': 50 }\n",
    "ensemble_oofs, ensemble_pred = run_cross_validation(clf, fit_params, train_ensemble, test_ensemble, new_features)"
   ]
  },
  {
   "cell_type": "markdown",
   "metadata": {},
   "source": [
    "#### Final Submission"
   ]
  },
  {
   "cell_type": "code",
   "execution_count": 76,
   "metadata": {},
   "outputs": [],
   "source": [
    "Submission['Is_Lead'] = ensemble_pred\n",
    "Submission.to_csv(r\"C:\\Users\\kulka\\Desktop\\AV_Hackathon_Codes\\Jobathon2\\Submissions\\Ensemble_9.csv\",index=None)"
   ]
  },
  {
   "cell_type": "code",
   "execution_count": 77,
   "metadata": {},
   "outputs": [
    {
     "data": {
      "text/html": [
       "<div>\n",
       "<style scoped>\n",
       "    .dataframe tbody tr th:only-of-type {\n",
       "        vertical-align: middle;\n",
       "    }\n",
       "\n",
       "    .dataframe tbody tr th {\n",
       "        vertical-align: top;\n",
       "    }\n",
       "\n",
       "    .dataframe thead th {\n",
       "        text-align: right;\n",
       "    }\n",
       "</style>\n",
       "<table border=\"1\" class=\"dataframe\">\n",
       "  <thead>\n",
       "    <tr style=\"text-align: right;\">\n",
       "      <th></th>\n",
       "      <th>ID</th>\n",
       "      <th>Is_Lead</th>\n",
       "    </tr>\n",
       "  </thead>\n",
       "  <tbody>\n",
       "    <tr>\n",
       "      <th>0</th>\n",
       "      <td>VBENBARO</td>\n",
       "      <td>0.08735</td>\n",
       "    </tr>\n",
       "    <tr>\n",
       "      <th>1</th>\n",
       "      <td>CCMEWNKY</td>\n",
       "      <td>0.75096</td>\n",
       "    </tr>\n",
       "    <tr>\n",
       "      <th>2</th>\n",
       "      <td>VK3KGA9M</td>\n",
       "      <td>0.08887</td>\n",
       "    </tr>\n",
       "    <tr>\n",
       "      <th>3</th>\n",
       "      <td>TT8RPZVC</td>\n",
       "      <td>0.06536</td>\n",
       "    </tr>\n",
       "    <tr>\n",
       "      <th>4</th>\n",
       "      <td>SHQZEYTZ</td>\n",
       "      <td>0.06463</td>\n",
       "    </tr>\n",
       "  </tbody>\n",
       "</table>\n",
       "</div>"
      ],
      "text/plain": [
       "         ID  Is_Lead\n",
       "0  VBENBARO  0.08735\n",
       "1  CCMEWNKY  0.75096\n",
       "2  VK3KGA9M  0.08887\n",
       "3  TT8RPZVC  0.06536\n",
       "4  SHQZEYTZ  0.06463"
      ]
     },
     "execution_count": 77,
     "metadata": {},
     "output_type": "execute_result"
    }
   ],
   "source": [
    "Submission.head()"
   ]
  }
 ],
 "metadata": {
  "kernelspec": {
   "display_name": "Python 3",
   "language": "python",
   "name": "python3"
  },
  "language_info": {
   "codemirror_mode": {
    "name": "ipython",
    "version": 3
   },
   "file_extension": ".py",
   "mimetype": "text/x-python",
   "name": "python",
   "nbconvert_exporter": "python",
   "pygments_lexer": "ipython3",
   "version": "3.7.6"
  }
 },
 "nbformat": 4,
 "nbformat_minor": 4
}
